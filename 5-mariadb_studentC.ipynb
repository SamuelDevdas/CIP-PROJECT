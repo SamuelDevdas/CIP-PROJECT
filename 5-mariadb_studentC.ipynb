{
 "cells": [
  {
   "cell_type": "code",
   "execution_count": 1,
   "id": "7504d337",
   "metadata": {},
   "outputs": [],
   "source": [
    "# Module Imports\n",
    "import mariadb\n",
    "import sys"
   ]
  },
  {
   "cell_type": "code",
   "execution_count": 5,
   "id": "d8ca9c0c",
   "metadata": {},
   "outputs": [],
   "source": [
    "# https://mariadb.com/resources/blog/how-to-connect-python-programs-to-mariadb/\n",
    "\n",
    "\n",
    "# Module Imports\n",
    "import mariadb\n",
    "import sys\n",
    "\n",
    "# Connect to MariaDB Platform\n",
    "try:\n",
    "    conn = mariadb.connect(\n",
    "        user=\"cip_user\",\n",
    "        password=\"cip_pw\",\n",
    "        host=\"127.0.0.1\",                    # 10.177.124.185,  localhost , 127.0.0.1     \n",
    "        #host=\"10.177.124.35\",                    # 10.177.124.35,  localhost , 127.0.0.1    FS23\n",
    "        port=3306, \n",
    "        database=\"AIRQUALITY\"\n",
    "\n",
    "    )\n",
    "except mariadb.Error as e:\n",
    "    print(f\"Error connecting to MariaDB Platform: {e}\")\n",
    "    sys.exit(1)\n",
    "\n",
    "# Get Cursor\n",
    "cur = conn.cursor()"
   ]
  },
  {
   "cell_type": "code",
   "execution_count": 6,
   "id": "6fc6120e",
   "metadata": {},
   "outputs": [
    {
     "data": {
      "text/plain": [
       "<mariadb.cursor at 0x7f48eb509000>"
      ]
     },
     "execution_count": 6,
     "metadata": {},
     "output_type": "execute_result"
    }
   ],
   "source": [
    "cur"
   ]
  },
  {
   "cell_type": "code",
   "execution_count": 11,
   "id": "351c16d2-bcf7-448e-a724-c4f5b9f18664",
   "metadata": {},
   "outputs": [],
   "source": [
    "\n",
    "cur.execute('''CREATE TABLE IF NOT EXISTS tbl_geolocation (id INT AUTO_INCREMENT PRIMARY KEY, country VARCHAR(255), coordinates VARCHAR(255), \n",
    "elevation FLOAT(6,2), continent VARCHAR(255), countrycode VARCHAR(255))''')\n",
    "\n",
    "\n",
    "\n"
   ]
  },
  {
   "cell_type": "code",
   "execution_count": 16,
   "id": "d87435e2-2f0f-4249-968e-4b4011e53c56",
   "metadata": {},
   "outputs": [],
   "source": [
    "# adding data\n",
    "cur.execute(\"\"\"INSERT INTO tbl_geolocation (country,coordinates,elevation,continent,countrycode) VALUES (\"Belarus\",\"53.5318804783,28.033566395\", 170.0,\"Europe\",\"BLR\")\"\"\")"
   ]
  },
  {
   "cell_type": "code",
   "execution_count": 18,
   "id": "231cfb96",
   "metadata": {},
   "outputs": [],
   "source": [
    "cur.execute(\"SELECT country,coordinates,elevation,continent,countrycode FROM tbl_geolocation \")"
   ]
  },
  {
   "cell_type": "code",
   "execution_count": null,
   "id": "997057d7-22e4-45b2-b8d3-ebdc44185c80",
   "metadata": {},
   "outputs": [],
   "source": []
  },
  {
   "cell_type": "code",
   "execution_count": 5,
   "id": "5f6e99a3",
   "metadata": {},
   "outputs": [
    {
     "name": "stdout",
     "output_type": "stream",
     "text": [
      "First Name: Muster, Last Name: Max, City: 6003 Luzern\n",
      "First Name: Huber, Last Name: Anna, City: 8000 Zürich\n",
      "First Name: Huber, Last Name: Max, City: 3000 Bern\n",
      "First Name: Affolter, Last Name: Giuliana, City: 4000 Basel\n",
      "First Name: Schuhmacher, Last Name: Michael, City: 1200 Genf\n",
      "First Name: Schuhmacher, Last Name: Manuela, City: 7000 Chur \n",
      "First Name: Schuhmacher, Last Name: Hubert, City: 7000 Chur \n",
      "First Name: Graf, Last Name: Guido, City: 6100 Luzern \n"
     ]
    }
   ],
   "source": [
    "# Print Result-set\n",
    "for (name, vorname, plzort) in cur:\n",
    "    print(f\"First Name: {name}, Last Name: {vorname}, City: {plzort}\")"
   ]
  },
  {
   "cell_type": "code",
   "execution_count": 6,
   "id": "f6879d88",
   "metadata": {},
   "outputs": [],
   "source": [
    "# adding data\n",
    "cur.execute(\"INSERT INTO tbl_kontakt (name,vorname, plzort) VALUES (?, ?, ?)\", \n",
    "    (\"Engler\", \"Paulina\", \"6000 Luzern\"))"
   ]
  },
  {
   "cell_type": "code",
   "execution_count": 7,
   "id": "afe39362",
   "metadata": {},
   "outputs": [
    {
     "name": "stdout",
     "output_type": "stream",
     "text": [
      "First Name: Muster, Last Name: Max, City: 6003 Luzern\n",
      "First Name: Huber, Last Name: Anna, City: 8000 Zürich\n",
      "First Name: Huber, Last Name: Max, City: 3000 Bern\n",
      "First Name: Affolter, Last Name: Giuliana, City: 4000 Basel\n",
      "First Name: Schuhmacher, Last Name: Michael, City: 1200 Genf\n",
      "First Name: Schuhmacher, Last Name: Manuela, City: 7000 Chur \n",
      "First Name: Schuhmacher, Last Name: Hubert, City: 7000 Chur \n",
      "First Name: Graf, Last Name: Guido, City: 6100 Luzern \n",
      "First Name: Engler, Last Name: Paulina, City: 6000 Luzern\n"
     ]
    }
   ],
   "source": [
    "cur.execute(\"SELECT name, vorname, plzort FROM tbl_kontakt \")\n",
    "# Print Result-set\n",
    "for (name, vorname, plzort) in cur:\n",
    "    print(f\"First Name: {name}, Last Name: {vorname}, City: {plzort}\")"
   ]
  },
  {
   "cell_type": "code",
   "execution_count": 9,
   "id": "5b826557",
   "metadata": {},
   "outputs": [
    {
     "name": "stdout",
     "output_type": "stream",
     "text": [
      "Error: You have an error in your SQL syntax; check the manual that corresponds to your MariaDB server version for the right syntax to use near 'some MariaDB query' at line 1\n"
     ]
    }
   ],
   "source": [
    "# better style: \n",
    "# For any of your SQL actions (querying, updating, deleting, or inserting records) you should try to trap errors:\n",
    "\n",
    "try:\n",
    "    cur.execute(\"some MariaDB query\")    # command will create an error!!!!\n",
    "except mariadb.Error as e:\n",
    "    print(f\"Error: {e}\")\n",
    "\n"
   ]
  },
  {
   "cell_type": "code",
   "execution_count": 10,
   "id": "fef23bf3",
   "metadata": {},
   "outputs": [],
   "source": [
    "# never forget to close the connection:\n",
    "\n",
    "# Close Connection\n",
    "conn.close()"
   ]
  },
  {
   "cell_type": "code",
   "execution_count": null,
   "id": "0eea8610",
   "metadata": {},
   "outputs": [],
   "source": []
  },
  {
   "cell_type": "code",
   "execution_count": null,
   "id": "e98e8bfb",
   "metadata": {},
   "outputs": [],
   "source": []
  }
 ],
 "metadata": {
  "kernelspec": {
   "display_name": "Python 3 (ipykernel)",
   "language": "python",
   "name": "python3"
  },
  "language_info": {
   "codemirror_mode": {
    "name": "ipython",
    "version": 3
   },
   "file_extension": ".py",
   "mimetype": "text/x-python",
   "name": "python",
   "nbconvert_exporter": "python",
   "pygments_lexer": "ipython3",
   "version": "3.10.12"
  }
 },
 "nbformat": 4,
 "nbformat_minor": 5
}
