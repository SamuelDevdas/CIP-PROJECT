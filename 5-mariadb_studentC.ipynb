{
 "cells": [
  {
   "cell_type": "code",
   "execution_count": 1,
   "id": "7504d337",
   "metadata": {},
   "outputs": [],
   "source": [
    "# Module Imports\n",
    "import mariadb\n",
    "import sys"
   ]
  },
  {
   "cell_type": "code",
   "execution_count": 2,
   "id": "d8ca9c0c",
   "metadata": {},
   "outputs": [],
   "source": [
    "# https://mariadb.com/resources/blog/how-to-connect-python-programs-to-mariadb/\n",
    "\n",
    "\n",
    "# Module Imports\n",
    "import mariadb\n",
    "import sys\n",
    "\n",
    "# Connect to MariaDB Platform\n",
    "try:\n",
    "    conn = mariadb.connect(\n",
    "        user=\"cip_user\",\n",
    "        password=\"cip_pw\",\n",
    "        host=\"127.0.0.1\",                    # 10.177.124.185,  localhost , 127.0.0.1     \n",
    "        #host=\"10.177.124.35\",                    # 10.177.124.35,  localhost , 127.0.0.1    FS23\n",
    "        port=3306, \n",
    "        database=\"AIRQUALITY\"\n",
    "\n",
    "    )\n",
    "except mariadb.Error as e:\n",
    "    print(f\"Error connecting to MariaDB Platform: {e}\")\n",
    "    sys.exit(1)\n",
    "\n",
    "# Get Cursor\n",
    "cur = conn.cursor()"
   ]
  },
  {
   "cell_type": "code",
   "execution_count": 3,
   "id": "6fc6120e",
   "metadata": {},
   "outputs": [
    {
     "data": {
      "text/plain": [
       "<mariadb.cursor at 0x7f3a252bc040>"
      ]
     },
     "execution_count": 3,
     "metadata": {},
     "output_type": "execute_result"
    }
   ],
   "source": [
    "cur"
   ]
  },
  {
   "cell_type": "code",
   "execution_count": 4,
   "id": "acbc38aa-2d83-4012-b5d5-e36af5be7fed",
   "metadata": {},
   "outputs": [],
   "source": [
    "\n",
    "cur.execute('''CREATE TABLE IF NOT EXISTS tbl_geolocation1 (id INT AUTO_INCREMENT PRIMARY KEY, Country VARCHAR(255), coordinates VARCHAR(255), \n",
    "elevation FLOAT(6,2), continent VARCHAR(255))''')\n"
   ]
  },
  {
   "cell_type": "markdown",
   "id": "87388995-7fea-46b9-bde7-d805c8ea7813",
   "metadata": {},
   "source": [
    "### Prepare data"
   ]
  },
  {
   "cell_type": "code",
   "execution_count": 5,
   "id": "b2c79b6a-eb24-4e14-94b7-2cc979b24a55",
   "metadata": {},
   "outputs": [],
   "source": [
    "\n",
    "data_to_insert = [\n",
    "    (\"Belarus\", \"53.5318804783, 28.033566395\", 170.0),\n",
    "    (\"Germany\", \"51.1063634863, 10.3814938434\", 263.0),\n",
    "    (\"Denmark\", \"62.0740272545, -6.87055477617\", 34.0),\n",
    "    (\"Portugal\", \"39.5871468639, -8.59083758901\", 372.0),\n",
    "    (\"Andorra\", \"42.541326525, 1.56075624107\", 1996.0),\n",
    "    (\"Albania\", \"41.1424820604, 20.053819197\", 708.0),\n",
    "    (\"Poland\", \"52.1247718189, 19.3943221398\", 173.0),\n",
    "    (\"Bosnia and Herzegovina\", \"44.1717340565, 17.7734080203\", 500.0),\n",
    "    (\"United Kingdom\", \"49.2210642111, -2.12743081446\", 162.0),\n",
    "    (\"Lithuania\", \"55.3270236412, 23.8882490157\", 110.0),\n",
    "    (\"San Marino\", \"43.9364661946, 12.4422225588\", 538.0),\n",
    "    (\"France\", \"42.1801069806, -2.75522118992\", 375.0),\n",
    "    (\"Spain\", \"40.2272337014, -3.65263701695\", 660.0),\n",
    "    (\"Hungary\", \"47.1632436866, 19.3967592674\", 143.0),\n",
    "    (\"Croatia\", \"45.067726168, 16.3985488378\", 331.0),\n",
    "    (\"Monaco\", \"43.7398461874, 7.39897432483\", 375.0),\n",
    "    (\"Finland\", \"60.1864472514, 20.0555828218\", 164.0),\n",
    "    (\"Czech Republic\", \"49.7324482055, 15.3141031033\", 430.0),\n",
    "    (\"Liechtenstein\", \"47.1382064295, 9.54090028864\", 1350.0),\n",
    "    (\"Italy\", \"42.7864339964, 12.0719070927\", 538.0),\n",
    "    (\"Montenegro\", \"42.7858180546, 19.2385002864\", 1086.0),\n",
    "    (\"Ukraine\", \"49.1600782909, 31.2553061432\", 175.0),\n",
    "    (\"Sweden\", \"62.7770998648, 16.7544664339\", 320.0),\n",
    "    (\"Greece\", \"39.0511811824, 22.9748189255\", 498.0),\n",
    "    (\"Slovenia\", \"46.1161109843, 14.8080896248\", 492.0),\n",
    "    (\"Luxembourg\", \"49.7668242758, 6.07176396727\", 325.0),\n",
    "    (\"Belgium\", \"50.6374616353, 4.63996050767\", 181.0),\n",
    "    (\"Estonia\", \"58.6710141504, 25.5357932075\", 61.0),\n",
    "    (\"Kosovo\", \"42.5728833853, 20.8737431935\", 800.0),\n",
    "    (\"Austria\", \"47.5856569205, 14.1306728873\", 910.0),\n",
    "    (\"Netherlands\", \"52.0697916544, 5.2168142092\", 30.0),\n",
    "    (\"Latvia\", \"56.8518194796, 24.9086224276\", 87.0),\n",
    "    (\"Norway\", \"68.7942729218, 15.4095991585\", 460.0),\n",
    "    (\"Romania\", \"45.8534640978, 24.9729418552\", 414.0),\n",
    "    (\"Switzerland\", \"46.7989568698, 8.21535365745\", 1350.0),\n",
    "    (\"Russia\", \"61.9668529189, 96.6275884228\", 600.0),\n",
    "    (\"Moldova\", \"47.195101489, 28.4613971304\", 139.0),\n",
    "    (\"Iceland\", \"64.9983158205, -18.5964459278\", 557.0),\n",
    "    (\"Serbia\", \"44.2213759212, 20.790402471\", 473.0),\n",
    "    (\"Bulgaria\", \"42.7685226144, 25.2175125117\", 470.0),\n",
    "    (\"Slovakia\", \"48.7049353017, 19.4803829712\", 458.0),\n",
    "    (\"Vatican City\", \"41.9033124692, 12.4534177294\", 538.0),\n",
    "    (\"Ireland\", \"53.1782213727, -8.14504467255\", 118.0),\n",
    "    (\"North Macedonia\", \"41.5950049267, 21.6838304101\", 741.0)\n",
    "]\n"
   ]
  },
  {
   "cell_type": "markdown",
   "id": "dcfd3cf9-9b62-4135-b4e3-e0b4c4c7405b",
   "metadata": {},
   "source": [
    "### Insert data into table 'tbl_geolocation1'"
   ]
  },
  {
   "cell_type": "code",
   "execution_count": 6,
   "id": "922236d6-4cdf-49d9-b538-a51501804af2",
   "metadata": {},
   "outputs": [],
   "source": [
    "sql_insert_query = \"\"\"\n",
    "    INSERT INTO tbl_geolocation (country, coordinates, elevation) \n",
    "    VALUES (?, ?, ?)\n",
    "\"\"\"\n"
   ]
  },
  {
   "cell_type": "code",
   "execution_count": 7,
   "id": "ca164e3a-b257-4aba-af2f-c5a12111ea5d",
   "metadata": {},
   "outputs": [],
   "source": [
    "cur.executemany(sql_insert_query, data_to_insert)\n",
    "conn.commit()"
   ]
  },
  {
   "cell_type": "code",
   "execution_count": 8,
   "id": "231cfb96",
   "metadata": {},
   "outputs": [],
   "source": [
    "cur.execute(\"SELECT Country,coordinates,elevation FROM tbl_geolocation \")"
   ]
  },
  {
   "cell_type": "code",
   "execution_count": 9,
   "id": "5f6e99a3",
   "metadata": {},
   "outputs": [
    {
     "name": "stdout",
     "output_type": "stream",
     "text": [
      "Belarus,53.5318804783, 28.033566395,170.0\n",
      "Germany,51.1063634863, 10.3814938434,263.0\n",
      "Denmark,62.0740272545, -6.87055477617,34.0\n",
      "Portugal,39.5871468639, -8.59083758901,372.0\n",
      "Andorra,42.541326525, 1.56075624107,1996.0\n",
      "Albania,41.1424820604, 20.053819197,708.0\n",
      "Poland,52.1247718189, 19.3943221398,173.0\n",
      "Bosnia and Herzegovina,44.1717340565, 17.7734080203,500.0\n",
      "United Kingdom,49.2210642111, -2.12743081446,162.0\n",
      "Lithuania,55.3270236412, 23.8882490157,110.0\n",
      "San Marino,43.9364661946, 12.4422225588,538.0\n",
      "France,42.1801069806, -2.75522118992,375.0\n",
      "Spain,40.2272337014, -3.65263701695,660.0\n",
      "Hungary,47.1632436866, 19.3967592674,143.0\n",
      "Croatia,45.067726168, 16.3985488378,331.0\n",
      "Monaco,43.7398461874, 7.39897432483,375.0\n",
      "Finland,60.1864472514, 20.0555828218,164.0\n",
      "Czech Republic,49.7324482055, 15.3141031033,430.0\n",
      "Liechtenstein,47.1382064295, 9.54090028864,1350.0\n",
      "Italy,42.7864339964, 12.0719070927,538.0\n",
      "Montenegro,42.7858180546, 19.2385002864,1086.0\n",
      "Ukraine,49.1600782909, 31.2553061432,175.0\n",
      "Sweden,62.7770998648, 16.7544664339,320.0\n",
      "Greece,39.0511811824, 22.9748189255,498.0\n",
      "Slovenia,46.1161109843, 14.8080896248,492.0\n",
      "Luxembourg,49.7668242758, 6.07176396727,325.0\n",
      "Belgium,50.6374616353, 4.63996050767,181.0\n",
      "Estonia,58.6710141504, 25.5357932075,61.0\n",
      "Kosovo,42.5728833853, 20.8737431935,800.0\n",
      "Austria,47.5856569205, 14.1306728873,910.0\n",
      "Netherlands,52.0697916544, 5.2168142092,30.0\n",
      "Latvia,56.8518194796, 24.9086224276,87.0\n",
      "Norway,68.7942729218, 15.4095991585,460.0\n",
      "Romania,45.8534640978, 24.9729418552,414.0\n",
      "Switzerland,46.7989568698, 8.21535365745,1350.0\n",
      "Russia,61.9668529189, 96.6275884228,600.0\n",
      "Moldova,47.195101489, 28.4613971304,139.0\n",
      "Iceland,64.9983158205, -18.5964459278,557.0\n",
      "Serbia,44.2213759212, 20.790402471,473.0\n",
      "Bulgaria,42.7685226144, 25.2175125117,470.0\n",
      "Slovakia,48.7049353017, 19.4803829712,458.0\n",
      "Vatican City,41.9033124692, 12.4534177294,538.0\n",
      "Ireland,53.1782213727, -8.14504467255,118.0\n",
      "North Macedonia,41.5950049267, 21.6838304101,741.0\n",
      "Belarus,53.5318804783, 28.033566395,170.0\n",
      "Germany,51.1063634863, 10.3814938434,263.0\n",
      "Denmark,62.0740272545, -6.87055477617,34.0\n",
      "Portugal,39.5871468639, -8.59083758901,372.0\n",
      "Andorra,42.541326525, 1.56075624107,1996.0\n",
      "Albania,41.1424820604, 20.053819197,708.0\n",
      "Poland,52.1247718189, 19.3943221398,173.0\n",
      "Bosnia and Herzegovina,44.1717340565, 17.7734080203,500.0\n",
      "United Kingdom,49.2210642111, -2.12743081446,162.0\n",
      "Lithuania,55.3270236412, 23.8882490157,110.0\n",
      "San Marino,43.9364661946, 12.4422225588,538.0\n",
      "France,42.1801069806, -2.75522118992,375.0\n",
      "Spain,40.2272337014, -3.65263701695,660.0\n",
      "Hungary,47.1632436866, 19.3967592674,143.0\n",
      "Croatia,45.067726168, 16.3985488378,331.0\n",
      "Monaco,43.7398461874, 7.39897432483,375.0\n",
      "Finland,60.1864472514, 20.0555828218,164.0\n",
      "Czech Republic,49.7324482055, 15.3141031033,430.0\n",
      "Liechtenstein,47.1382064295, 9.54090028864,1350.0\n",
      "Italy,42.7864339964, 12.0719070927,538.0\n",
      "Montenegro,42.7858180546, 19.2385002864,1086.0\n",
      "Ukraine,49.1600782909, 31.2553061432,175.0\n",
      "Sweden,62.7770998648, 16.7544664339,320.0\n",
      "Greece,39.0511811824, 22.9748189255,498.0\n",
      "Slovenia,46.1161109843, 14.8080896248,492.0\n",
      "Luxembourg,49.7668242758, 6.07176396727,325.0\n",
      "Belgium,50.6374616353, 4.63996050767,181.0\n",
      "Estonia,58.6710141504, 25.5357932075,61.0\n",
      "Kosovo,42.5728833853, 20.8737431935,800.0\n",
      "Austria,47.5856569205, 14.1306728873,910.0\n",
      "Netherlands,52.0697916544, 5.2168142092,30.0\n",
      "Latvia,56.8518194796, 24.9086224276,87.0\n",
      "Norway,68.7942729218, 15.4095991585,460.0\n",
      "Romania,45.8534640978, 24.9729418552,414.0\n",
      "Switzerland,46.7989568698, 8.21535365745,1350.0\n",
      "Russia,61.9668529189, 96.6275884228,600.0\n",
      "Moldova,47.195101489, 28.4613971304,139.0\n",
      "Iceland,64.9983158205, -18.5964459278,557.0\n",
      "Serbia,44.2213759212, 20.790402471,473.0\n",
      "Bulgaria,42.7685226144, 25.2175125117,470.0\n",
      "Slovakia,48.7049353017, 19.4803829712,458.0\n",
      "Vatican City,41.9033124692, 12.4534177294,538.0\n",
      "Ireland,53.1782213727, -8.14504467255,118.0\n",
      "North Macedonia,41.5950049267, 21.6838304101,741.0\n"
     ]
    }
   ],
   "source": [
    "# Print Result-set\n",
    "for (Country,coordinates,elevation) in cur:\n",
    "    print(f\"{Country},{coordinates},{elevation}\")"
   ]
  },
  {
   "cell_type": "code",
   "execution_count": null,
   "id": "37f8b153-86ac-47e8-9a6a-de525536208b",
   "metadata": {},
   "outputs": [],
   "source": []
  },
  {
   "cell_type": "code",
   "execution_count": null,
   "id": "aaff73d2-badb-45d9-aa46-f6a8f9dc1cc4",
   "metadata": {},
   "outputs": [],
   "source": []
  },
  {
   "cell_type": "code",
   "execution_count": null,
   "id": "8468c88b-5a2b-4962-b995-0d8ebcda00bd",
   "metadata": {},
   "outputs": [],
   "source": []
  },
  {
   "cell_type": "code",
   "execution_count": null,
   "id": "f9625382-913c-452a-809a-5cb3d5c2ff76",
   "metadata": {},
   "outputs": [],
   "source": []
  },
  {
   "cell_type": "code",
   "execution_count": null,
   "id": "6a7c2f3d-aeb3-46b8-bb2e-756e45736a56",
   "metadata": {},
   "outputs": [],
   "source": []
  },
  {
   "cell_type": "code",
   "execution_count": null,
   "id": "ce0f9c0e-7037-48af-b6b1-ceedc9444d58",
   "metadata": {},
   "outputs": [],
   "source": []
  },
  {
   "cell_type": "code",
   "execution_count": null,
   "id": "2d1ffa27-52ba-4cdd-90da-fbd051b6b745",
   "metadata": {},
   "outputs": [],
   "source": []
  },
  {
   "cell_type": "code",
   "execution_count": null,
   "id": "8d94bcad-5f5c-4f84-ba3d-39659fb86b01",
   "metadata": {},
   "outputs": [],
   "source": []
  },
  {
   "cell_type": "code",
   "execution_count": null,
   "id": "c525d6a0-590d-4ce5-ba34-4116244c1882",
   "metadata": {},
   "outputs": [],
   "source": []
  },
  {
   "cell_type": "code",
   "execution_count": null,
   "id": "5f3f99cc-035d-4f66-9813-7aa75dcdfb64",
   "metadata": {},
   "outputs": [],
   "source": []
  },
  {
   "cell_type": "code",
   "execution_count": null,
   "id": "12bed768-d488-45f4-8613-0d918f085fec",
   "metadata": {},
   "outputs": [],
   "source": []
  },
  {
   "cell_type": "code",
   "execution_count": null,
   "id": "997057d7-22e4-45b2-b8d3-ebdc44185c80",
   "metadata": {},
   "outputs": [],
   "source": []
  },
  {
   "cell_type": "code",
   "execution_count": null,
   "id": "f6879d88",
   "metadata": {},
   "outputs": [],
   "source": [
    "# adding data\n",
    "cur.execute(\"INSERT INTO tbl_kontakt (name,vorname, plzort) VALUES (?, ?, ?)\", \n",
    "    (\"Engler\", \"Paulina\", \"6000 Luzern\"))"
   ]
  },
  {
   "cell_type": "code",
   "execution_count": null,
   "id": "afe39362",
   "metadata": {},
   "outputs": [],
   "source": [
    "cur.execute(\"SELECT name, vorname, plzort FROM tbl_kontakt \")\n",
    "# Print Result-set\n",
    "for (name, vorname, plzort) in cur:\n",
    "    print(f\"First Name: {name}, Last Name: {vorname}, City: {plzort}\")"
   ]
  },
  {
   "cell_type": "code",
   "execution_count": null,
   "id": "5b826557",
   "metadata": {},
   "outputs": [],
   "source": [
    "# better style: \n",
    "# For any of your SQL actions (querying, updating, deleting, or inserting records) you should try to trap errors:\n",
    "\n",
    "try:\n",
    "    cur.execute(\"some MariaDB query\")    # command will create an error!!!!\n",
    "except mariadb.Error as e:\n",
    "    print(f\"Error: {e}\")\n",
    "\n"
   ]
  },
  {
   "cell_type": "code",
   "execution_count": null,
   "id": "fef23bf3",
   "metadata": {},
   "outputs": [],
   "source": [
    "# never forget to close the connection:\n",
    "\n",
    "# Close Connection\n",
    "conn.close()"
   ]
  },
  {
   "cell_type": "code",
   "execution_count": null,
   "id": "0eea8610",
   "metadata": {},
   "outputs": [],
   "source": []
  },
  {
   "cell_type": "code",
   "execution_count": null,
   "id": "e98e8bfb",
   "metadata": {},
   "outputs": [],
   "source": []
  }
 ],
 "metadata": {
  "kernelspec": {
   "display_name": "Python 3 (ipykernel)",
   "language": "python",
   "name": "python3"
  },
  "language_info": {
   "codemirror_mode": {
    "name": "ipython",
    "version": 3
   },
   "file_extension": ".py",
   "mimetype": "text/x-python",
   "name": "python",
   "nbconvert_exporter": "python",
   "pygments_lexer": "ipython3",
   "version": "3.10.12"
  }
 },
 "nbformat": 4,
 "nbformat_minor": 5
}
