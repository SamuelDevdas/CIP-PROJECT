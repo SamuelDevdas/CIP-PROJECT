{
 "cells": [
  {
   "cell_type": "markdown",
   "metadata": {},
   "source": [
    "### Load and Inspect the Datasets"
   ]
  },
  {
   "cell_type": "code",
   "execution_count": 1,
   "metadata": {},
   "outputs": [],
   "source": [
    "# Load AirQuality, Weather-GDP, and Geolocation data from the CSV files\n",
    "\n",
    "import pandas as pd\n",
    "\n",
    "df_airquality = pd.read_csv(\"AirQuality_RenewableEnergy_data.csv\")\n",
    "\n",
    "df_weather = pd.read_csv(\"weather_gdp_data.csv\")\n",
    "\n",
    "df_geo = pd.read_csv(\"4-final-geolocation-data.csv\")"
   ]
  },
  {
   "cell_type": "code",
   "execution_count": 2,
   "metadata": {},
   "outputs": [
    {
     "name": "stdout",
     "output_type": "stream",
     "text": [
      "(77, 22)\n"
     ]
    },
    {
     "data": {
      "text/html": [
       "<div>\n",
       "<style scoped>\n",
       "    .dataframe tbody tr th:only-of-type {\n",
       "        vertical-align: middle;\n",
       "    }\n",
       "\n",
       "    .dataframe tbody tr th {\n",
       "        vertical-align: top;\n",
       "    }\n",
       "\n",
       "    .dataframe thead th {\n",
       "        text-align: right;\n",
       "    }\n",
       "</style>\n",
       "<table border=\"1\" class=\"dataframe\">\n",
       "  <thead>\n",
       "    <tr style=\"text-align: right;\">\n",
       "      <th></th>\n",
       "      <th>Year</th>\n",
       "      <th>Country</th>\n",
       "      <th>Population</th>\n",
       "      <th>Populated Area [km2]</th>\n",
       "      <th>Air Pollution Average [ug/m3] NO2</th>\n",
       "      <th>Air Pollution Average [ug/m3] O3</th>\n",
       "      <th>Air Pollution Average [ug/m3] PM10</th>\n",
       "      <th>Air Pollution Average [ug/m3] PM2.5</th>\n",
       "      <th>Annual AQI NO2</th>\n",
       "      <th>Annual AQI O3</th>\n",
       "      <th>...</th>\n",
       "      <th>Premature Deaths NO2</th>\n",
       "      <th>Premature Deaths O3</th>\n",
       "      <th>Premature Deaths PM10</th>\n",
       "      <th>Premature Deaths PM2.5</th>\n",
       "      <th>Years Of Life Lost NO2</th>\n",
       "      <th>Years Of Life Lost O3</th>\n",
       "      <th>Years Of Life Lost PM10</th>\n",
       "      <th>Years Of Life Lost PM2.5</th>\n",
       "      <th>RenewableData</th>\n",
       "      <th>Average Renewable Data</th>\n",
       "    </tr>\n",
       "  </thead>\n",
       "  <tbody>\n",
       "    <tr>\n",
       "      <th>0</th>\n",
       "      <td>2018</td>\n",
       "      <td>Austria</td>\n",
       "      <td>8822183</td>\n",
       "      <td>43050</td>\n",
       "      <td>9.5</td>\n",
       "      <td>7867.9</td>\n",
       "      <td>15.4</td>\n",
       "      <td>11.2</td>\n",
       "      <td>8.96</td>\n",
       "      <td>0.0</td>\n",
       "      <td>...</td>\n",
       "      <td>1228.0</td>\n",
       "      <td>619.0</td>\n",
       "      <td>8620.4</td>\n",
       "      <td>5001.0</td>\n",
       "      <td>12796.0</td>\n",
       "      <td>6756.0</td>\n",
       "      <td>94656.66</td>\n",
       "      <td>52145.0</td>\n",
       "      <td>33.8</td>\n",
       "      <td>33.70</td>\n",
       "    </tr>\n",
       "    <tr>\n",
       "      <th>1</th>\n",
       "      <td>2018</td>\n",
       "      <td>Belgium</td>\n",
       "      <td>11398472</td>\n",
       "      <td>25153</td>\n",
       "      <td>14.1</td>\n",
       "      <td>4803.8</td>\n",
       "      <td>18.5</td>\n",
       "      <td>11.5</td>\n",
       "      <td>13.30</td>\n",
       "      <td>0.0</td>\n",
       "      <td>...</td>\n",
       "      <td>2085.0</td>\n",
       "      <td>508.0</td>\n",
       "      <td>8620.4</td>\n",
       "      <td>5914.0</td>\n",
       "      <td>22293.0</td>\n",
       "      <td>5810.0</td>\n",
       "      <td>94656.66</td>\n",
       "      <td>62914.0</td>\n",
       "      <td>9.4</td>\n",
       "      <td>9.65</td>\n",
       "    </tr>\n",
       "  </tbody>\n",
       "</table>\n",
       "<p>2 rows × 22 columns</p>\n",
       "</div>"
      ],
      "text/plain": [
       "   Year  Country  Population  Populated Area [km2]  \\\n",
       "0  2018  Austria     8822183                 43050   \n",
       "1  2018  Belgium    11398472                 25153   \n",
       "\n",
       "   Air Pollution Average [ug/m3] NO2  Air Pollution Average [ug/m3] O3  \\\n",
       "0                                9.5                            7867.9   \n",
       "1                               14.1                            4803.8   \n",
       "\n",
       "   Air Pollution Average [ug/m3] PM10  Air Pollution Average [ug/m3] PM2.5  \\\n",
       "0                                15.4                                 11.2   \n",
       "1                                18.5                                 11.5   \n",
       "\n",
       "   Annual AQI NO2  Annual AQI O3  ...  Premature Deaths NO2  \\\n",
       "0            8.96            0.0  ...                1228.0   \n",
       "1           13.30            0.0  ...                2085.0   \n",
       "\n",
       "   Premature Deaths O3  Premature Deaths PM10  Premature Deaths PM2.5  \\\n",
       "0                619.0                 8620.4                  5001.0   \n",
       "1                508.0                 8620.4                  5914.0   \n",
       "\n",
       "   Years Of Life Lost NO2  Years Of Life Lost O3  Years Of Life Lost PM10  \\\n",
       "0                 12796.0                 6756.0                 94656.66   \n",
       "1                 22293.0                 5810.0                 94656.66   \n",
       "\n",
       "   Years Of Life Lost PM2.5  RenewableData  Average Renewable Data  \n",
       "0                   52145.0           33.8                   33.70  \n",
       "1                   62914.0            9.4                    9.65  \n",
       "\n",
       "[2 rows x 22 columns]"
      ]
     },
     "execution_count": 2,
     "metadata": {},
     "output_type": "execute_result"
    }
   ],
   "source": [
    "print(df_airquality.shape)\n",
    "\n",
    "df_airquality.head(2)"
   ]
  },
  {
   "cell_type": "code",
   "execution_count": 3,
   "metadata": {},
   "outputs": [
    {
     "name": "stdout",
     "output_type": "stream",
     "text": [
      "(46, 6)\n"
     ]
    },
    {
     "data": {
      "text/html": [
       "<div>\n",
       "<style scoped>\n",
       "    .dataframe tbody tr th:only-of-type {\n",
       "        vertical-align: middle;\n",
       "    }\n",
       "\n",
       "    .dataframe tbody tr th {\n",
       "        vertical-align: top;\n",
       "    }\n",
       "\n",
       "    .dataframe thead th {\n",
       "        text-align: right;\n",
       "    }\n",
       "</style>\n",
       "<table border=\"1\" class=\"dataframe\">\n",
       "  <thead>\n",
       "    <tr style=\"text-align: right;\">\n",
       "      <th></th>\n",
       "      <th>Country</th>\n",
       "      <th>Country Code</th>\n",
       "      <th>New Rank</th>\n",
       "      <th>Mean GDP</th>\n",
       "      <th>Temperature</th>\n",
       "      <th>Wind Speed</th>\n",
       "    </tr>\n",
       "  </thead>\n",
       "  <tbody>\n",
       "    <tr>\n",
       "      <th>0</th>\n",
       "      <td>Luxembourg</td>\n",
       "      <td>LU</td>\n",
       "      <td>1</td>\n",
       "      <td>126738.5</td>\n",
       "      <td>6.138889</td>\n",
       "      <td>3.886667</td>\n",
       "    </tr>\n",
       "    <tr>\n",
       "      <th>1</th>\n",
       "      <td>Switzerland</td>\n",
       "      <td>CH</td>\n",
       "      <td>2</td>\n",
       "      <td>88345.0</td>\n",
       "      <td>6.074444</td>\n",
       "      <td>3.655556</td>\n",
       "    </tr>\n",
       "  </tbody>\n",
       "</table>\n",
       "</div>"
      ],
      "text/plain": [
       "       Country Country Code  New Rank  Mean GDP  Temperature  Wind Speed\n",
       "0   Luxembourg           LU         1  126738.5     6.138889    3.886667\n",
       "1  Switzerland           CH         2   88345.0     6.074444    3.655556"
      ]
     },
     "execution_count": 3,
     "metadata": {},
     "output_type": "execute_result"
    }
   ],
   "source": [
    "print(df_weather.shape)\n",
    "df_weather.head(2)"
   ]
  },
  {
   "cell_type": "code",
   "execution_count": 4,
   "metadata": {},
   "outputs": [
    {
     "name": "stdout",
     "output_type": "stream",
     "text": [
      "(46, 3)\n"
     ]
    },
    {
     "data": {
      "text/html": [
       "<div>\n",
       "<style scoped>\n",
       "    .dataframe tbody tr th:only-of-type {\n",
       "        vertical-align: middle;\n",
       "    }\n",
       "\n",
       "    .dataframe tbody tr th {\n",
       "        vertical-align: top;\n",
       "    }\n",
       "\n",
       "    .dataframe thead th {\n",
       "        text-align: right;\n",
       "    }\n",
       "</style>\n",
       "<table border=\"1\" class=\"dataframe\">\n",
       "  <thead>\n",
       "    <tr style=\"text-align: right;\">\n",
       "      <th></th>\n",
       "      <th>Country</th>\n",
       "      <th>coordinates</th>\n",
       "      <th>elevation</th>\n",
       "    </tr>\n",
       "  </thead>\n",
       "  <tbody>\n",
       "    <tr>\n",
       "      <th>0</th>\n",
       "      <td>Belarus</td>\n",
       "      <td>53.5318804783, 28.033566395</td>\n",
       "      <td>170.0</td>\n",
       "    </tr>\n",
       "    <tr>\n",
       "      <th>1</th>\n",
       "      <td>Germany</td>\n",
       "      <td>51.1063634863, 10.3814938434</td>\n",
       "      <td>263.0</td>\n",
       "    </tr>\n",
       "  </tbody>\n",
       "</table>\n",
       "</div>"
      ],
      "text/plain": [
       "   Country                   coordinates  elevation\n",
       "0  Belarus   53.5318804783, 28.033566395      170.0\n",
       "1  Germany  51.1063634863, 10.3814938434      263.0"
      ]
     },
     "execution_count": 4,
     "metadata": {},
     "output_type": "execute_result"
    }
   ],
   "source": [
    "print(df_geo.shape)\n",
    "\n",
    "df_geo.head(2)"
   ]
  },
  {
   "cell_type": "markdown",
   "metadata": {},
   "source": [
    "### Merge the Datasets"
   ]
  },
  {
   "cell_type": "markdown",
   "metadata": {},
   "source": [
    "#### Merge weather and geolocation datasets"
   ]
  },
  {
   "cell_type": "code",
   "execution_count": 5,
   "metadata": {},
   "outputs": [],
   "source": [
    "df_geo_weather = pd.merge(df_geo, df_weather, on=\"Country\", how=\"left\")"
   ]
  },
  {
   "cell_type": "code",
   "execution_count": 6,
   "metadata": {},
   "outputs": [
    {
     "data": {
      "text/html": [
       "<div>\n",
       "<style scoped>\n",
       "    .dataframe tbody tr th:only-of-type {\n",
       "        vertical-align: middle;\n",
       "    }\n",
       "\n",
       "    .dataframe tbody tr th {\n",
       "        vertical-align: top;\n",
       "    }\n",
       "\n",
       "    .dataframe thead th {\n",
       "        text-align: right;\n",
       "    }\n",
       "</style>\n",
       "<table border=\"1\" class=\"dataframe\">\n",
       "  <thead>\n",
       "    <tr style=\"text-align: right;\">\n",
       "      <th></th>\n",
       "      <th>Country</th>\n",
       "      <th>coordinates</th>\n",
       "      <th>elevation</th>\n",
       "      <th>Country Code</th>\n",
       "      <th>New Rank</th>\n",
       "      <th>Mean GDP</th>\n",
       "      <th>Temperature</th>\n",
       "      <th>Wind Speed</th>\n",
       "    </tr>\n",
       "  </thead>\n",
       "  <tbody>\n",
       "    <tr>\n",
       "      <th>0</th>\n",
       "      <td>Belarus</td>\n",
       "      <td>53.5318804783, 28.033566395</td>\n",
       "      <td>170.0</td>\n",
       "      <td>BY</td>\n",
       "      <td>34.0</td>\n",
       "      <td>10075.0</td>\n",
       "      <td>-0.584444</td>\n",
       "      <td>4.25</td>\n",
       "    </tr>\n",
       "    <tr>\n",
       "      <th>1</th>\n",
       "      <td>Germany</td>\n",
       "      <td>51.1063634863, 10.3814938434</td>\n",
       "      <td>263.0</td>\n",
       "      <td>DE</td>\n",
       "      <td>12.0</td>\n",
       "      <td>50216.5</td>\n",
       "      <td>4.611111</td>\n",
       "      <td>5.89</td>\n",
       "    </tr>\n",
       "  </tbody>\n",
       "</table>\n",
       "</div>"
      ],
      "text/plain": [
       "   Country                   coordinates  elevation Country Code  New Rank  \\\n",
       "0  Belarus   53.5318804783, 28.033566395      170.0           BY      34.0   \n",
       "1  Germany  51.1063634863, 10.3814938434      263.0           DE      12.0   \n",
       "\n",
       "   Mean GDP  Temperature  Wind Speed  \n",
       "0   10075.0    -0.584444        4.25  \n",
       "1   50216.5     4.611111        5.89  "
      ]
     },
     "execution_count": 6,
     "metadata": {},
     "output_type": "execute_result"
    }
   ],
   "source": [
    "df_geo_weather.shape\n",
    "\n",
    "df_geo_weather.head(2)"
   ]
  },
  {
   "cell_type": "markdown",
   "metadata": {},
   "source": [
    "#### Final Merge df_airquality and df_geo_weather"
   ]
  },
  {
   "cell_type": "code",
   "execution_count": 7,
   "metadata": {},
   "outputs": [],
   "source": [
    "df_airquality_geo_weather = pd.merge(\n",
    "    df_airquality, df_geo_weather, on=\"Country\", how=\"left\"\n",
    ")"
   ]
  },
  {
   "cell_type": "code",
   "execution_count": 8,
   "metadata": {},
   "outputs": [
    {
     "name": "stdout",
     "output_type": "stream",
     "text": [
      "(77, 29)\n",
      "   Year  Country  Population  Populated Area [km2]  \\\n",
      "0  2018  Austria     8822183                 43050   \n",
      "1  2018  Belgium    11398472                 25153   \n",
      "\n",
      "   Air Pollution Average [ug/m3] NO2  Air Pollution Average [ug/m3] O3  \\\n",
      "0                                9.5                            7867.9   \n",
      "1                               14.1                            4803.8   \n",
      "\n",
      "   Air Pollution Average [ug/m3] PM10  Air Pollution Average [ug/m3] PM2.5  \\\n",
      "0                                15.4                                 11.2   \n",
      "1                                18.5                                 11.5   \n",
      "\n",
      "   Annual AQI NO2  Annual AQI O3  ...  Years Of Life Lost PM2.5  \\\n",
      "0            8.96            0.0  ...                   52145.0   \n",
      "1           13.30            0.0  ...                   62914.0   \n",
      "\n",
      "   RenewableData  Average Renewable Data                   coordinates  \\\n",
      "0           33.8                   33.70  47.5856569205, 14.1306728873   \n",
      "1            9.4                    9.65  50.6374616353, 4.63996050767   \n",
      "\n",
      "   elevation  Country Code  New Rank  Mean GDP  Temperature  Wind Speed  \n",
      "0      910.0            AT       9.0   54459.5     6.873333    7.740000  \n",
      "1      181.0            BE      13.0   48262.0     6.786667    2.286667  \n",
      "\n",
      "[2 rows x 29 columns]\n"
     ]
    }
   ],
   "source": [
    "print(df_airquality_geo_weather.shape)\n",
    "\n",
    "print(df_airquality_geo_weather.head(2))"
   ]
  },
  {
   "cell_type": "code",
   "execution_count": 9,
   "metadata": {},
   "outputs": [
    {
     "data": {
      "text/html": [
       "<div>\n",
       "<style scoped>\n",
       "    .dataframe tbody tr th:only-of-type {\n",
       "        vertical-align: middle;\n",
       "    }\n",
       "\n",
       "    .dataframe tbody tr th {\n",
       "        vertical-align: top;\n",
       "    }\n",
       "\n",
       "    .dataframe thead th {\n",
       "        text-align: right;\n",
       "    }\n",
       "</style>\n",
       "<table border=\"1\" class=\"dataframe\">\n",
       "  <thead>\n",
       "    <tr style=\"text-align: right;\">\n",
       "      <th></th>\n",
       "      <th>Year</th>\n",
       "      <th>Country</th>\n",
       "      <th>Population</th>\n",
       "      <th>Populated Area [km2]</th>\n",
       "      <th>Air Pollution Average [ug/m3] NO2</th>\n",
       "      <th>Air Pollution Average [ug/m3] O3</th>\n",
       "      <th>Air Pollution Average [ug/m3] PM10</th>\n",
       "      <th>Air Pollution Average [ug/m3] PM2.5</th>\n",
       "      <th>Annual AQI NO2</th>\n",
       "      <th>Annual AQI O3</th>\n",
       "      <th>...</th>\n",
       "      <th>Years Of Life Lost PM2.5</th>\n",
       "      <th>RenewableData</th>\n",
       "      <th>Average Renewable Data</th>\n",
       "      <th>coordinates</th>\n",
       "      <th>elevation</th>\n",
       "      <th>Country Code</th>\n",
       "      <th>New Rank</th>\n",
       "      <th>Mean GDP</th>\n",
       "      <th>Temperature</th>\n",
       "      <th>Wind Speed</th>\n",
       "    </tr>\n",
       "  </thead>\n",
       "  <tbody>\n",
       "    <tr>\n",
       "      <th>15</th>\n",
       "      <td>2018</td>\n",
       "      <td>European Union</td>\n",
       "      <td>441769203</td>\n",
       "      <td>1793090</td>\n",
       "      <td>7.7</td>\n",
       "      <td>5519.4</td>\n",
       "      <td>16.2</td>\n",
       "      <td>10.6</td>\n",
       "      <td>7.26</td>\n",
       "      <td>0.0</td>\n",
       "      <td>...</td>\n",
       "      <td>3208729.0</td>\n",
       "      <td>18.0</td>\n",
       "      <td>18.40</td>\n",
       "      <td>NaN</td>\n",
       "      <td>NaN</td>\n",
       "      <td>NaN</td>\n",
       "      <td>NaN</td>\n",
       "      <td>NaN</td>\n",
       "      <td>NaN</td>\n",
       "      <td>NaN</td>\n",
       "    </tr>\n",
       "    <tr>\n",
       "      <th>36</th>\n",
       "      <td>2018</td>\n",
       "      <td>Slovenia</td>\n",
       "      <td>2066847</td>\n",
       "      <td>13251</td>\n",
       "      <td>NaN</td>\n",
       "      <td>NaN</td>\n",
       "      <td>17.8</td>\n",
       "      <td>13.1</td>\n",
       "      <td>NaN</td>\n",
       "      <td>NaN</td>\n",
       "      <td>...</td>\n",
       "      <td>17067.0</td>\n",
       "      <td>21.0</td>\n",
       "      <td>21.35</td>\n",
       "      <td>46.1161109843, 14.8080896248</td>\n",
       "      <td>492.0</td>\n",
       "      <td>SI</td>\n",
       "      <td>20.0</td>\n",
       "      <td>27025.0</td>\n",
       "      <td>9.851111</td>\n",
       "      <td>2.801111</td>\n",
       "    </tr>\n",
       "    <tr>\n",
       "      <th>54</th>\n",
       "      <td>2019</td>\n",
       "      <td>European Union</td>\n",
       "      <td>441994712</td>\n",
       "      <td>1793090</td>\n",
       "      <td>7.2</td>\n",
       "      <td>5017.3</td>\n",
       "      <td>14.4</td>\n",
       "      <td>9.1</td>\n",
       "      <td>6.79</td>\n",
       "      <td>0.0</td>\n",
       "      <td>...</td>\n",
       "      <td>2570060.0</td>\n",
       "      <td>18.8</td>\n",
       "      <td>18.40</td>\n",
       "      <td>NaN</td>\n",
       "      <td>NaN</td>\n",
       "      <td>NaN</td>\n",
       "      <td>NaN</td>\n",
       "      <td>NaN</td>\n",
       "      <td>NaN</td>\n",
       "      <td>NaN</td>\n",
       "    </tr>\n",
       "  </tbody>\n",
       "</table>\n",
       "<p>3 rows × 29 columns</p>\n",
       "</div>"
      ],
      "text/plain": [
       "    Year         Country  Population  Populated Area [km2]  \\\n",
       "15  2018  European Union   441769203               1793090   \n",
       "36  2018        Slovenia     2066847                 13251   \n",
       "54  2019  European Union   441994712               1793090   \n",
       "\n",
       "    Air Pollution Average [ug/m3] NO2  Air Pollution Average [ug/m3] O3  \\\n",
       "15                                7.7                            5519.4   \n",
       "36                                NaN                               NaN   \n",
       "54                                7.2                            5017.3   \n",
       "\n",
       "    Air Pollution Average [ug/m3] PM10  Air Pollution Average [ug/m3] PM2.5  \\\n",
       "15                                16.2                                 10.6   \n",
       "36                                17.8                                 13.1   \n",
       "54                                14.4                                  9.1   \n",
       "\n",
       "    Annual AQI NO2  Annual AQI O3  ...  Years Of Life Lost PM2.5  \\\n",
       "15            7.26            0.0  ...                 3208729.0   \n",
       "36             NaN            NaN  ...                   17067.0   \n",
       "54            6.79            0.0  ...                 2570060.0   \n",
       "\n",
       "    RenewableData  Average Renewable Data                   coordinates  \\\n",
       "15           18.0                   18.40                           NaN   \n",
       "36           21.0                   21.35  46.1161109843, 14.8080896248   \n",
       "54           18.8                   18.40                           NaN   \n",
       "\n",
       "    elevation  Country Code  New Rank  Mean GDP  Temperature  Wind Speed  \n",
       "15        NaN           NaN       NaN       NaN          NaN         NaN  \n",
       "36      492.0            SI      20.0   27025.0     9.851111    2.801111  \n",
       "54        NaN           NaN       NaN       NaN          NaN         NaN  \n",
       "\n",
       "[3 rows x 29 columns]"
      ]
     },
     "execution_count": 9,
     "metadata": {},
     "output_type": "execute_result"
    }
   ],
   "source": [
    "# Display rows with missing values\n",
    "df_airquality_geo_weather[df_airquality_geo_weather.isnull().any(axis=1)]"
   ]
  },
  {
   "cell_type": "code",
   "execution_count": 10,
   "metadata": {},
   "outputs": [
    {
     "name": "stdout",
     "output_type": "stream",
     "text": [
      "(74, 29)\n"
     ]
    }
   ],
   "source": [
    "# Drop rows with missing values\n",
    "df_airquality_geo_weather.dropna(inplace=True)\n",
    "\n",
    "print(df_airquality_geo_weather.shape)"
   ]
  },
  {
   "cell_type": "code",
   "execution_count": 11,
   "metadata": {},
   "outputs": [],
   "source": [
    "# Save the merged data to a CSV file\n",
    "df_airquality_geo_weather.to_csv(\n",
    "    \"Final_AirQuality_Geolocation_weather.csv\", index=False\n",
    ")"
   ]
  },
  {
   "cell_type": "code",
   "execution_count": null,
   "metadata": {},
   "outputs": [],
   "source": []
  },
  {
   "cell_type": "code",
   "execution_count": null,
   "metadata": {},
   "outputs": [],
   "source": []
  }
 ],
 "metadata": {
  "kernelspec": {
   "display_name": "Python 3 (ipykernel)",
   "language": "python",
   "name": "python3"
  },
  "language_info": {
   "codemirror_mode": {
    "name": "ipython",
    "version": 3
   },
   "file_extension": ".py",
   "mimetype": "text/x-python",
   "name": "python",
   "nbconvert_exporter": "python",
   "pygments_lexer": "ipython3",
   "version": "3.10.11"
  }
 },
 "nbformat": 4,
 "nbformat_minor": 4
}
