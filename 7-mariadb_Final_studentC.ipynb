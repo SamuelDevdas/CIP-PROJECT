{
 "cells": [
  {
   "cell_type": "code",
   "execution_count": 1,
   "id": "7504d337",
   "metadata": {},
   "outputs": [],
   "source": [
    "# Module Imports\n",
    "import mariadb\n",
    "import sys\n",
    "import pandas as pd"
   ]
  },
  {
   "cell_type": "code",
   "execution_count": 2,
   "id": "d8ca9c0c",
   "metadata": {},
   "outputs": [],
   "source": [
    "\n",
    "# Connect to MariaDB Platform\n",
    "try:\n",
    "    conn = mariadb.connect(\n",
    "        user=\"cip_user\",\n",
    "        password=\"cip_pw\",\n",
    "        host=\"127.0.0.1\",                    # 10.177.124.185,  localhost , 127.0.0.1\n",
    "        # host=\"10.177.124.35\",                    # 10.177.124.35,  localhost , 127.0.0.1    FS23\n",
    "        port=3306,\n",
    "        database=\"AIRQUALITY\"\n",
    "\n",
    "    )\n",
    "except mariadb.Error as e:\n",
    "    print(f\"Error connecting to MariaDB Platform: {e}\")\n",
    "    sys.exit(1)\n",
    "\n",
    "# Get Cursor\n",
    "cur = conn.cursor()"
   ]
  },
  {
   "cell_type": "code",
   "execution_count": 3,
   "id": "6fc6120e",
   "metadata": {},
   "outputs": [
    {
     "data": {
      "text/plain": [
       "<mariadb.cursor at 0x7f40fbe2c940>"
      ]
     },
     "execution_count": 3,
     "metadata": {},
     "output_type": "execute_result"
    }
   ],
   "source": [
    "cur"
   ]
  },
  {
   "cell_type": "code",
   "execution_count": 4,
   "id": "acbc38aa-2d83-4012-b5d5-e36af5be7fed",
   "metadata": {},
   "outputs": [],
   "source": [
    "cur.execute('''\n",
    "CREATE TABLE IF NOT EXISTS tbl_Airquality (\n",
    "    Year INT,\n",
    "    Country VARCHAR(255),\n",
    "    Population INT,\n",
    "    Populated_Area_km2 FLOAT(10,2),\n",
    "    Air_Pollution_Average_ug_m3_NO2 FLOAT(5,2),\n",
    "    Air_Pollution_Average_ug_m3_O3 FLOAT(10,2),\n",
    "    Air_Pollution_Average_ug_m3_PM10 FLOAT(5,2),\n",
    "    Air_Pollution_Average_ug_m3_PM2_5 FLOAT(5,2),\n",
    "    Annual_AQI_NO2 FLOAT(5,2),\n",
    "    Annual_AQI_O3 FLOAT(5,2),\n",
    "    Annual_AQI_PM10 FLOAT(5,2),\n",
    "    Annual_AQI_PM2_5 FLOAT(5,2),\n",
    "    Premature_Deaths_NO2 FLOAT(10,2),\n",
    "    Premature_Deaths_O3 FLOAT(10,2),\n",
    "    Premature_Deaths_PM10 FLOAT(10,2),\n",
    "    Premature_Deaths_PM2_5 FLOAT(10,2),\n",
    "    Years_Of_Life_Lost_NO2 FLOAT(10,2),\n",
    "    Years_Of_Life_Lost_O3 FLOAT(10,2),\n",
    "    Years_Of_Life_Lost_PM10 FLOAT(10,2),\n",
    "    Years_Of_Life_Lost_PM2_5 FLOAT(10,2),\n",
    "    RenewableData INT,\n",
    "    Average_Renewable_Data FLOAT(5,2),\n",
    "    coordinates VARCHAR(255),\n",
    "    elevation FLOAT,\n",
    "    Country_Code VARCHAR(10),\n",
    "    New_Rank INT,\n",
    "    Mean_GDP FLOAT,\n",
    "    Temperature FLOAT,\n",
    "    Wind_Speed FLOAT\n",
    ")\n",
    "''')"
   ]
  },
  {
   "cell_type": "markdown",
   "id": "aaef3962-07ae-49b1-a684-9d02bc9cb4c3",
   "metadata": {},
   "source": [
    "### Fetch data from the Final CSV file\n"
   ]
  },
  {
   "cell_type": "code",
   "execution_count": 5,
   "id": "6873893e-3504-49e8-9f92-4a89d13e80fc",
   "metadata": {},
   "outputs": [],
   "source": [
    "# Load the CSV file\n",
    "csv_file_path = \"Final_AirQuality_Geolocation_weather.csv\"\n",
    "df = pd.read_csv(csv_file_path)"
   ]
  },
  {
   "cell_type": "markdown",
   "id": "7881787e-b902-489b-8978-ae9d32cf6e82",
   "metadata": {},
   "source": [
    "### Insert data into the 'tbl_Airquality' table\n"
   ]
  },
  {
   "cell_type": "code",
   "execution_count": 10,
   "id": "0f13b39b-904f-4643-9880-de0436ee7db6",
   "metadata": {},
   "outputs": [],
   "source": [
    "# Create a sql query for insertion\n",
    "\n",
    "sql_insert_query = '''\n",
    "    INSERT INTO tbl_Airquality (\n",
    "    Year, \n",
    "    Country, \n",
    "    Population, \n",
    "    Populated_Area_km2, \n",
    "    Air_Pollution_Average_ug_m3_NO2, \n",
    "    Air_Pollution_Average_ug_m3_O3, \n",
    "    Air_Pollution_Average_ug_m3_PM10, \n",
    "    Air_Pollution_Average_ug_m3_PM2_5, \n",
    "    Annual_AQI_NO2, \n",
    "    Annual_AQI_O3, \n",
    "    Annual_AQI_PM10, \n",
    "    Annual_AQI_PM2_5, \n",
    "    Premature_Deaths_NO2, \n",
    "    Premature_Deaths_O3, \n",
    "    Premature_Deaths_PM10, \n",
    "    Premature_Deaths_PM2_5, \n",
    "    Years_Of_Life_Lost_NO2, \n",
    "    Years_Of_Life_Lost_O3, \n",
    "    Years_Of_Life_Lost_PM10, \n",
    "    Years_Of_Life_Lost_PM2_5, \n",
    "    RenewableData, \n",
    "    Average_Renewable_Data,\n",
    "    coordinates,\n",
    "    elevation,\n",
    "    Country_Code,\n",
    "    New_Rank,\n",
    "    Mean_GDP,\n",
    "    Temperature,\n",
    "    Wind_Speed\n",
    "    ) \n",
    "    VALUES (?, ?, ?, ?, ?, ?, ?, ?, ?, ?, ?, ?, ?, ?, ?, ?, ?, ?, ?, ?, ?, ?, ?, ?, ?, ?, ?, ?, ?)\n",
    "    '''"
   ]
  },
  {
   "cell_type": "code",
   "execution_count": 11,
   "id": "8eea22a5-458d-473a-9361-6c459d79b584",
   "metadata": {},
   "outputs": [],
   "source": [
    "# Create a function to insert data into the table\n",
    "def insert_data(cursor, data, sql_insert_query):\n",
    "    try:\n",
    "        # Execute the query\n",
    "        cursor.execute(sql_insert_query, data)\n",
    "    except mariadb.Error as e:\n",
    "        print(f\"Error inserting data: {e}\")"
   ]
  },
  {
   "cell_type": "markdown",
   "id": "6b2010df-73f6-40af-9464-36c627198663",
   "metadata": {},
   "source": [
    "#### Loop through the dataframe rows and insert data\n"
   ]
  },
  {
   "cell_type": "code",
   "execution_count": 12,
   "id": "ac68c37e-ef69-4593-ad64-f3d73fad4ee1",
   "metadata": {},
   "outputs": [],
   "source": [
    "for index, row in df.iterrows():\n",
    "    # print(tuple(row))\n",
    "    insert_data(cur, tuple(row), sql_insert_query)"
   ]
  },
  {
   "cell_type": "code",
   "execution_count": 13,
   "id": "aaa1ab04-de39-47d4-8666-4a84800c82f4",
   "metadata": {},
   "outputs": [],
   "source": [
    "conn.commit()"
   ]
  },
  {
   "cell_type": "code",
   "execution_count": 14,
   "id": "fae2c8dc-eb8d-4504-a419-237904d89b3e",
   "metadata": {},
   "outputs": [
    {
     "name": "stdout",
     "output_type": "stream",
     "text": [
      "Year: 2018, Country: Austria, Population: 8822183, Populated Area (km^2): 43050.0, NO2 (ug/m3): 9.5, O3 (ug/m3): 7867.9, PM10 (ug/m3): 15.4, PM2.5 (ug/m3): 11.2, Annual AQI NO2: 8.96, Annual AQI O3: 0.0, Annual AQI PM10: 14.26, Annual AQI PM2.5: 46.67, Premature Deaths NO2: 1228.0, Premature Deaths O3: 619.0, Premature Deaths PM10: 8620.4, Premature Deaths PM2.5: 5001.0, Years Of Life Lost NO2: 12796.0, Years Of Life Lost O3: 6756.0, Years Of Life Lost PM10: 94656.66, Years Of Life Lost PM2.5: 52145.0, Renewable Data: 34, Average Renewable Data: 33.7 Coordinates: 47.5856569205, 14.1306728873, Elevation: 910.0, Country Code: AT, New Rank: 9, Mean GDP: 54459.5, Temperature: 6.87333, Wind Speed: 7.74\n",
      "Year: 2018, Country: Belgium, Population: 11398472, Populated Area (km^2): 25153.0, NO2 (ug/m3): 14.1, O3 (ug/m3): 4803.8, PM10 (ug/m3): 18.5, PM2.5 (ug/m3): 11.5, Annual AQI NO2: 13.3, Annual AQI O3: 0.0, Annual AQI PM10: 17.13, Annual AQI PM2.5: 47.92, Premature Deaths NO2: 2085.0, Premature Deaths O3: 508.0, Premature Deaths PM10: 8620.4, Premature Deaths PM2.5: 5914.0, Years Of Life Lost NO2: 22293.0, Years Of Life Lost O3: 5810.0, Years Of Life Lost PM10: 94656.66, Years Of Life Lost PM2.5: 62914.0, Renewable Data: 9, Average Renewable Data: 9.65 Coordinates: 50.6374616353, 4.63996050767, Elevation: 181.0, Country Code: BE, New Rank: 13, Mean GDP: 48262.0, Temperature: 6.78667, Wind Speed: 2.28667\n",
      "Year: 2018, Country: Belgium, Population: 11398472, Populated Area (km^2): 25153.0, NO2 (ug/m3): 14.1, O3 (ug/m3): 4803.8, PM10 (ug/m3): 18.5, PM2.5 (ug/m3): 11.5, Annual AQI NO2: 13.3, Annual AQI O3: 0.0, Annual AQI PM10: 17.13, Annual AQI PM2.5: 47.92, Premature Deaths NO2: 2085.0, Premature Deaths O3: 508.0, Premature Deaths PM10: 8620.4, Premature Deaths PM2.5: 5914.0, Years Of Life Lost NO2: 22293.0, Years Of Life Lost O3: 5810.0, Years Of Life Lost PM10: 94656.66, Years Of Life Lost PM2.5: 62914.0, Renewable Data: 9, Average Renewable Data: 9.65 Coordinates: 50.6374616353, 4.63996050767, Elevation: 181.0, Country Code: BE, New Rank: 13, Mean GDP: 48262.0, Temperature: 6.78667, Wind Speed: 2.28667\n",
      "Year: 2018, Country: Belgium, Population: 11398472, Populated Area (km^2): 25153.0, NO2 (ug/m3): 14.1, O3 (ug/m3): 4803.8, PM10 (ug/m3): 18.5, PM2.5 (ug/m3): 11.5, Annual AQI NO2: 13.3, Annual AQI O3: 0.0, Annual AQI PM10: 17.13, Annual AQI PM2.5: 47.92, Premature Deaths NO2: 2085.0, Premature Deaths O3: 508.0, Premature Deaths PM10: 8620.4, Premature Deaths PM2.5: 5914.0, Years Of Life Lost NO2: 22293.0, Years Of Life Lost O3: 5810.0, Years Of Life Lost PM10: 94656.66, Years Of Life Lost PM2.5: 62914.0, Renewable Data: 9, Average Renewable Data: 9.65 Coordinates: 50.6374616353, 4.63996050767, Elevation: 181.0, Country Code: BE, New Rank: 13, Mean GDP: 48262.0, Temperature: 6.78667, Wind Speed: 2.28667\n",
      "Year: 2018, Country: Bulgaria, Population: 7049950, Populated Area (km^2): 23519.0, NO2 (ug/m3): 9.3, O3 (ug/m3): 6089.9, PM10 (ug/m3): 20.8, PM2.5 (ug/m3): 14.7, Annual AQI NO2: 8.77, Annual AQI O3: 0.0, Annual AQI PM10: 19.26, Annual AQI PM2.5: 56.47, Premature Deaths NO2: 1883.0, Premature Deaths O3: 467.0, Premature Deaths PM10: 8620.4, Premature Deaths PM2.5: 12027.0, Years Of Life Lost NO2: 20285.0, Years Of Life Lost O3: 5239.0, Years Of Life Lost PM10: 94656.66, Years Of Life Lost PM2.5: 129430.0, Renewable Data: 21, Average Renewable Data: 21.05 Coordinates: 42.7685226144, 25.2175125117, Elevation: 470.0, Country Code: BG, New Rank: 33, Mean GDP: 10574.5, Temperature: 8.36, Wind Speed: 2.74444\n",
      "Year: 2018, Country: Bulgaria, Population: 7049950, Populated Area (km^2): 23519.0, NO2 (ug/m3): 9.3, O3 (ug/m3): 6089.9, PM10 (ug/m3): 20.8, PM2.5 (ug/m3): 14.7, Annual AQI NO2: 8.77, Annual AQI O3: 0.0, Annual AQI PM10: 19.26, Annual AQI PM2.5: 56.47, Premature Deaths NO2: 1883.0, Premature Deaths O3: 467.0, Premature Deaths PM10: 8620.4, Premature Deaths PM2.5: 12027.0, Years Of Life Lost NO2: 20285.0, Years Of Life Lost O3: 5239.0, Years Of Life Lost PM10: 94656.66, Years Of Life Lost PM2.5: 129430.0, Renewable Data: 21, Average Renewable Data: 21.05 Coordinates: 42.7685226144, 25.2175125117, Elevation: 470.0, Country Code: BG, New Rank: 33, Mean GDP: 10574.5, Temperature: 8.36, Wind Speed: 2.74444\n",
      "Year: 2018, Country: Croatia, Population: 4105440, Populated Area (km^2): 23884.0, NO2 (ug/m3): 6.4, O3 (ug/m3): 6583.1, PM10 (ug/m3): 18.6, PM2.5 (ug/m3): 13.0, Annual AQI NO2: 6.04, Annual AQI O3: 0.0, Annual AQI PM10: 17.22, Annual AQI PM2.5: 52.89, Premature Deaths NO2: 462.0, Premature Deaths O3: 369.0, Premature Deaths PM10: 8620.4, Premature Deaths PM2.5: 4696.0, Years Of Life Lost NO2: 4778.0, Years Of Life Lost O3: 3945.0, Years Of Life Lost PM10: 94656.66, Years Of Life Lost PM2.5: 48568.0, Renewable Data: 28, Average Renewable Data: 28.25 Coordinates: 45.067726168, 16.3985488378, Elevation: 331.0, Country Code: HR, New Rank: 31, Mean GDP: 15591.5, Temperature: 11.02, Wind Speed: 4.74333\n",
      "Year: 2018, Country: Croatia, Population: 4105440, Populated Area (km^2): 23884.0, NO2 (ug/m3): 6.4, O3 (ug/m3): 6583.1, PM10 (ug/m3): 18.6, PM2.5 (ug/m3): 13.0, Annual AQI NO2: 6.04, Annual AQI O3: 0.0, Annual AQI PM10: 17.22, Annual AQI PM2.5: 52.89, Premature Deaths NO2: 462.0, Premature Deaths O3: 369.0, Premature Deaths PM10: 8620.4, Premature Deaths PM2.5: 4696.0, Years Of Life Lost NO2: 4778.0, Years Of Life Lost O3: 3945.0, Years Of Life Lost PM10: 94656.66, Years Of Life Lost PM2.5: 48568.0, Renewable Data: 28, Average Renewable Data: 28.25 Coordinates: 45.067726168, 16.3985488378, Elevation: 331.0, Country Code: HR, New Rank: 31, Mean GDP: 15591.5, Temperature: 11.02, Wind Speed: 4.74333\n",
      "Year: 2018, Country: Cyprus, Population: 1197024, Populated Area (km^2): 6504.0, NO2 (ug/m3): 7.8, O3 (ug/m3): 9265.6, PM10 (ug/m3): 26.4, PM2.5 (ug/m3): 12.6, Annual AQI NO2: 7.36, Annual AQI O3: 0.0, Annual AQI PM10: 24.44, Annual AQI PM2.5: 52.05, Premature Deaths NO2: 201.0, Premature Deaths O3: 59.0, Premature Deaths PM10: 8620.4, Premature Deaths PM2.5: 526.0, Years Of Life Lost NO2: 2215.0, Years Of Life Lost O3: 687.0, Years Of Life Lost PM10: 94656.66, Years Of Life Lost PM2.5: 5769.0, Renewable Data: 14, Average Renewable Data: 13.85 Coordinates: 34.977, 33.106, Elevation: 91.0, Country Code: CY, New Rank: 19, Mean GDP: 28704.5, Temperature: 22.0711, Wind Speed: 1.77111\n",
      "Year: 2018, Country: Cyprus, Population: 1197024, Populated Area (km^2): 6504.0, NO2 (ug/m3): 7.8, O3 (ug/m3): 9265.6, PM10 (ug/m3): 26.4, PM2.5 (ug/m3): 12.6, Annual AQI NO2: 7.36, Annual AQI O3: 0.0, Annual AQI PM10: 24.44, Annual AQI PM2.5: 52.05, Premature Deaths NO2: 201.0, Premature Deaths O3: 59.0, Premature Deaths PM10: 8620.4, Premature Deaths PM2.5: 526.0, Years Of Life Lost NO2: 2215.0, Years Of Life Lost O3: 687.0, Years Of Life Lost PM10: 94656.66, Years Of Life Lost PM2.5: 5769.0, Renewable Data: 14, Average Renewable Data: 13.85 Coordinates: 34.977, 33.106, Elevation: 91.0, Country Code: CY, New Rank: 19, Mean GDP: 28704.5, Temperature: 22.0711, Wind Speed: 1.77111\n",
      "Year: 2018, Country: Czech Republic, Population: 10610014, Populated Area (km^2): 44196.0, NO2 (ug/m3): 9.4, O3 (ug/m3): 7713.3, PM10 (ug/m3): 20.9, PM2.5 (ug/m3): 15.4, Annual AQI NO2: 8.87, Annual AQI O3: 0.0, Annual AQI PM10: 19.35, Annual AQI PM2.5: 57.94, Premature Deaths NO2: 1187.0, Premature Deaths O3: 870.0, Premature Deaths PM10: 8620.4, Premature Deaths PM2.5: 10305.0, Years Of Life Lost NO2: 13158.0, Years Of Life Lost O3: 9967.0, Years Of Life Lost PM10: 94656.66, Years Of Life Lost PM2.5: 114509.0, Renewable Data: 15, Average Renewable Data: 15.7 Coordinates: 49.7324482055, 15.3141031033, Elevation: 430.0, Country Code: CZ, New Rank: 22, Mean GDP: 24613.5, Temperature: 5.43889, Wind Speed: 5.76778\n",
      "Year: 2018, Country: Denmark, Population: 5781155, Populated Area (km^2): 37704.0, NO2 (ug/m3): 4.3, O3 (ug/m3): 4074.9, PM10 (ug/m3): 15.0, PM2.5 (ug/m3): 8.8, Annual AQI NO2: 4.06, Annual AQI O3: 0.0, Annual AQI PM10: 13.89, Annual AQI PM2.5: 36.67, Premature Deaths NO2: 192.0, Premature Deaths O3: 238.0, Premature Deaths PM10: 8620.4, Premature Deaths PM2.5: 2206.0, Years Of Life Lost NO2: 2049.0, Years Of Life Lost O3: 2668.0, Years Of Life Lost PM10: 94656.66, Years Of Life Lost PM2.5: 23400.0, Renewable Data: 35, Average Renewable Data: 36.3 Coordinates: 62.0740272545, -6.87055477617, Elevation: 34.0, Country Code: DK, New Rank: 6, Mean GDP: 63694.0, Temperature: 4.45556, Wind Speed: 7.65889\n",
      "Year: 2018, Country: Denmark, Population: 5781155, Populated Area (km^2): 37704.0, NO2 (ug/m3): 4.3, O3 (ug/m3): 4074.9, PM10 (ug/m3): 15.0, PM2.5 (ug/m3): 8.8, Annual AQI NO2: 4.06, Annual AQI O3: 0.0, Annual AQI PM10: 13.89, Annual AQI PM2.5: 36.67, Premature Deaths NO2: 192.0, Premature Deaths O3: 238.0, Premature Deaths PM10: 8620.4, Premature Deaths PM2.5: 2206.0, Years Of Life Lost NO2: 2049.0, Years Of Life Lost O3: 2668.0, Years Of Life Lost PM10: 94656.66, Years Of Life Lost PM2.5: 23400.0, Renewable Data: 35, Average Renewable Data: 36.3 Coordinates: 62.0740272545, -6.87055477617, Elevation: 34.0, Country Code: DK, New Rank: 6, Mean GDP: 63694.0, Temperature: 4.45556, Wind Speed: 7.65889\n",
      "Year: 2018, Country: Estonia, Population: 1319120, Populated Area (km^2): 20389.0, NO2 (ug/m3): 2.0, O3 (ug/m3): 3034.1, PM10 (ug/m3): 10.9, PM2.5 (ug/m3): 6.2, Annual AQI NO2: 1.89, Annual AQI O3: 0.0, Annual AQI PM10: 10.09, Annual AQI PM2.5: 25.83, Premature Deaths NO2: 12.0, Premature Deaths O3: 48.0, Premature Deaths PM10: 8620.4, Premature Deaths PM2.5: 230.0, Years Of Life Lost NO2: 159.0, Years Of Life Lost O3: 578.0, Years Of Life Lost PM10: 94656.66, Years Of Life Lost PM2.5: 2664.0, Renewable Data: 30, Average Renewable Data: 30.95 Coordinates: 58.6710141504, 25.5357932075, Elevation: 61.0, Country Code: EE, New Rank: 21, Mean GDP: 25096.5, Temperature: 0.0955556, Wind Speed: 1.88667\n",
      "Year: 2018, Country: Estonia, Population: 1319120, Populated Area (km^2): 20389.0, NO2 (ug/m3): 2.0, O3 (ug/m3): 3034.1, PM10 (ug/m3): 10.9, PM2.5 (ug/m3): 6.2, Annual AQI NO2: 1.89, Annual AQI O3: 0.0, Annual AQI PM10: 10.09, Annual AQI PM2.5: 25.83, Premature Deaths NO2: 12.0, Premature Deaths O3: 48.0, Premature Deaths PM10: 8620.4, Premature Deaths PM2.5: 230.0, Years Of Life Lost NO2: 159.0, Years Of Life Lost O3: 578.0, Years Of Life Lost PM10: 94656.66, Years Of Life Lost PM2.5: 2664.0, Renewable Data: 30, Average Renewable Data: 30.95 Coordinates: 58.6710141504, 25.5357932075, Elevation: 61.0, Country Code: EE, New Rank: 21, Mean GDP: 25096.5, Temperature: 0.0955556, Wind Speed: 1.88667\n",
      "Year: 2018, Country: Finland, Population: 5513080, Populated Area (km^2): 99493.0, NO2 (ug/m3): 2.4, O3 (ug/m3): 2523.2, PM10 (ug/m3): 7.1, PM2.5 (ug/m3): 4.1, Annual AQI NO2: 2.26, Annual AQI O3: 0.0, Annual AQI PM10: 6.57, Annual AQI PM2.5: 17.08, Premature Deaths NO2: 134.0, Premature Deaths O3: 140.0, Premature Deaths PM10: 8620.4, Premature Deaths PM2.5: 454.0, Years Of Life Lost NO2: 1424.0, Years Of Life Lost O3: 1544.0, Years Of Life Lost PM10: 94656.66, Years Of Life Lost PM2.5: 4866.0, Renewable Data: 41, Average Renewable Data: 42.15 Coordinates: 60.1864472514, 20.0555828218, Elevation: 164.0, Country Code: FI, New Rank: 10, Mean GDP: 52587.0, Temperature: -2.91111, Wind Speed: 3.74111\n",
      "Year: 2018, Country: Finland, Population: 5513080, Populated Area (km^2): 99493.0, NO2 (ug/m3): 2.4, O3 (ug/m3): 2523.2, PM10 (ug/m3): 7.1, PM2.5 (ug/m3): 4.1, Annual AQI NO2: 2.26, Annual AQI O3: 0.0, Annual AQI PM10: 6.57, Annual AQI PM2.5: 17.08, Premature Deaths NO2: 134.0, Premature Deaths O3: 140.0, Premature Deaths PM10: 8620.4, Premature Deaths PM2.5: 454.0, Years Of Life Lost NO2: 1424.0, Years Of Life Lost O3: 1544.0, Years Of Life Lost PM10: 94656.66, Years Of Life Lost PM2.5: 4866.0, Renewable Data: 41, Average Renewable Data: 42.15 Coordinates: 60.1864472514, 20.0555828218, Elevation: 164.0, Country Code: FI, New Rank: 10, Mean GDP: 52587.0, Temperature: -2.91111, Wind Speed: 3.74111\n",
      "Year: 2018, Country: France, Population: 64893633, Populated Area (km^2): 370764.0, NO2 (ug/m3): 6.1, O3 (ug/m3): 5833.2, PM10 (ug/m3): 13.3, PM2.5 (ug/m3): 8.2, Annual AQI NO2: 5.75, Annual AQI O3: 0.0, Annual AQI PM10: 12.31, Annual AQI PM2.5: 34.17, Premature Deaths NO2: 7383.0, Premature Deaths O3: 3397.0, Premature Deaths PM10: 8620.4, Premature Deaths PM2.5: 22888.0, Years Of Life Lost NO2: 85735.0, Years Of Life Lost O3: 41682.0, Years Of Life Lost PM10: 94656.66, Years Of Life Lost PM2.5: 265284.0, Renewable Data: 16, Average Renewable Data: 16.8 Coordinates: 42.1801069806, -2.75522118992, Elevation: 375.0, Country Code: FR, New Rank: 15, Mean GDP: 42744.5, Temperature: 9.19556, Wind Speed: 5.14333\n",
      "Year: 2018, Country: Germany, Population: 82791305, Populated Area (km^2): 213783.0, NO2 (ug/m3): 11.7, O3 (ug/m3): 6228.2, PM10 (ug/m3): 16.6, PM2.5 (ug/m3): 11.4, Annual AQI NO2: 11.04, Annual AQI O3: 0.0, Annual AQI PM10: 15.37, Annual AQI PM2.5: 47.5, Premature Deaths NO2: 16327.0, Premature Deaths O3: 6014.0, Premature Deaths PM10: 8620.4, Premature Deaths PM2.5: 49262.0, Years Of Life Lost NO2: 169758.0, Years Of Life Lost O3: 65143.0, Years Of Life Lost PM10: 94656.66, Years Of Life Lost PM2.5: 510635.0, Renewable Data: 17, Average Renewable Data: 17.05 Coordinates: 51.1063634863, 10.3814938434, Elevation: 263.0, Country Code: DE, New Rank: 12, Mean GDP: 50216.5, Temperature: 4.61111, Wind Speed: 5.89\n",
      "Year: 2018, Country: Germany, Population: 82791305, Populated Area (km^2): 213783.0, NO2 (ug/m3): 11.7, O3 (ug/m3): 6228.2, PM10 (ug/m3): 16.6, PM2.5 (ug/m3): 11.4, Annual AQI NO2: 11.04, Annual AQI O3: 0.0, Annual AQI PM10: 15.37, Annual AQI PM2.5: 47.5, Premature Deaths NO2: 16327.0, Premature Deaths O3: 6014.0, Premature Deaths PM10: 8620.4, Premature Deaths PM2.5: 49262.0, Years Of Life Lost NO2: 169758.0, Years Of Life Lost O3: 65143.0, Years Of Life Lost PM10: 94656.66, Years Of Life Lost PM2.5: 510635.0, Renewable Data: 17, Average Renewable Data: 17.05 Coordinates: 51.1063634863, 10.3814938434, Elevation: 263.0, Country Code: DE, New Rank: 12, Mean GDP: 50216.5, Temperature: 4.61111, Wind Speed: 5.89\n",
      "Year: 2018, Country: Greece, Population: 10741033, Populated Area (km^2): 24582.0, NO2 (ug/m3): 8.0, O3 (ug/m3): 8113.1, PM10 (ug/m3): 19.5, PM2.5 (ug/m3): 12.4, Annual AQI NO2: 7.55, Annual AQI O3: 0.0, Annual AQI PM10: 18.06, Annual AQI PM2.5: 51.63, Premature Deaths NO2: 2609.0, Premature Deaths O3: 961.0, Premature Deaths PM10: 8620.4, Premature Deaths PM2.5: 11144.0, Years Of Life Lost NO2: 27388.0, Years Of Life Lost O3: 10439.0, Years Of Life Lost PM10: 94656.66, Years Of Life Lost PM2.5: 116707.0, Renewable Data: 18, Average Renewable Data: 18.9 Coordinates: 39.0511811824, 22.9748189255, Elevation: 498.0, Country Code: GR, New Rank: 26, Mean GDP: 19628.0, Temperature: 20.52, Wind Speed: 2.92667\n",
      "Year: 2018, Country: Hungary, Population: 9778315, Populated Area (km^2): 27758.0, NO2 (ug/m3): 9.6, O3 (ug/m3): 7530.2, PM10 (ug/m3): 23.9, PM2.5 (ug/m3): 16.8, Annual AQI NO2: 9.06, Annual AQI O3: 0.0, Annual AQI PM10: 22.13, Annual AQI PM2.5: 60.88, Premature Deaths NO2: 1769.0, Premature Deaths O3: 870.0, Premature Deaths PM10: 8620.4, Premature Deaths PM2.5: 12161.0, Years Of Life Lost NO2: 20205.0, Years Of Life Lost O3: 10171.0, Years Of Life Lost PM10: 94656.66, Years Of Life Lost PM2.5: 138808.0, Renewable Data: 13, Average Renewable Data: 12.55 Coordinates: 47.1632436866, 19.3967592674, Elevation: 143.0, Country Code: HU, New Rank: 28, Mean GDP: 17403.5, Temperature: 8.46778, Wind Speed: 3.69222\n",
      "Year: 2018, Country: Hungary, Population: 9778315, Populated Area (km^2): 27758.0, NO2 (ug/m3): 9.6, O3 (ug/m3): 7530.2, PM10 (ug/m3): 23.9, PM2.5 (ug/m3): 16.8, Annual AQI NO2: 9.06, Annual AQI O3: 0.0, Annual AQI PM10: 22.13, Annual AQI PM2.5: 60.88, Premature Deaths NO2: 1769.0, Premature Deaths O3: 870.0, Premature Deaths PM10: 8620.4, Premature Deaths PM2.5: 12161.0, Years Of Life Lost NO2: 20205.0, Years Of Life Lost O3: 10171.0, Years Of Life Lost PM10: 94656.66, Years Of Life Lost PM2.5: 138808.0, Renewable Data: 13, Average Renewable Data: 12.55 Coordinates: 47.1632436866, 19.3967592674, Elevation: 143.0, Country Code: HU, New Rank: 28, Mean GDP: 17403.5, Temperature: 8.46778, Wind Speed: 3.69222\n",
      "Year: 2018, Country: Ireland, Population: 4830367, Populated Area (km^2): 55482.0, NO2 (ug/m3): 4.4, O3 (ug/m3): 2900.1, PM10 (ug/m3): 10.5, PM2.5 (ug/m3): 6.4, Annual AQI NO2: 4.15, Annual AQI O3: 0.0, Annual AQI PM10: 9.72, Annual AQI PM2.5: 26.67, Premature Deaths NO2: 184.0, Premature Deaths O3: 90.0, Premature Deaths PM10: 8620.4, Premature Deaths PM2.5: 624.0, Years Of Life Lost NO2: 2196.0, Years Of Life Lost O3: 1123.0, Years Of Life Lost PM10: 94656.66, Years Of Life Lost PM2.5: 7402.0, Renewable Data: 11, Average Renewable Data: 11.45 Coordinates: 53.1782213727, -8.14504467255, Elevation: 118.0, Country Code: IE, New Rank: 3, Mean GDP: 86608.5, Temperature: 7.35333, Wind Speed: 6.11444\n",
      "Year: 2018, Country: Italy, Population: 60483667, Populated Area (km^2): 169658.0, NO2 (ug/m3): 10.6, O3 (ug/m3): 6957.2, PM10 (ug/m3): 19.6, PM2.5 (ug/m3): 12.7, Annual AQI NO2: 10.0, Annual AQI O3: 0.0, Annual AQI PM10: 18.15, Annual AQI PM2.5: 52.26, Premature Deaths NO2: 12296.0, Premature Deaths O3: 4630.0, Premature Deaths PM10: 8620.4, Premature Deaths PM2.5: 46884.0, Years Of Life Lost NO2: 124180.0, Years Of Life Lost O3: 48136.0, Years Of Life Lost PM10: 94656.66, Years Of Life Lost PM2.5: 473138.0, Renewable Data: 18, Average Renewable Data: 18.0 Coordinates: 42.7864339964, 12.0719070927, Elevation: 538.0, Country Code: IT, New Rank: 16, Mean GDP: 34112.5, Temperature: 17.4233, Wind Speed: 3.65889\n",
      "Year: 2018, Country: Latvia, Population: 1934362, Populated Area (km^2): 32912.0, NO2 (ug/m3): 3.6, O3 (ug/m3): 3243.3, PM10 (ug/m3): 13.3, PM2.5 (ug/m3): 8.6, Annual AQI NO2: 3.4, Annual AQI O3: 0.0, Annual AQI PM10: 12.31, Annual AQI PM2.5: 35.83, Premature Deaths NO2: 200.0, Premature Deaths O3: 89.0, Premature Deaths PM10: 8620.4, Premature Deaths PM2.5: 1436.0, Years Of Life Lost NO2: 2309.0, Years Of Life Lost O3: 1032.0, Years Of Life Lost PM10: 94656.66, Years Of Life Lost PM2.5: 16362.0, Renewable Data: 40, Average Renewable Data: 40.5 Coordinates: 56.8518194796, 24.9086224276, Elevation: 87.0, Country Code: LV, New Rank: 27, Mean GDP: 18826.5, Temperature: 0.0977778, Wind Speed: 3.02889\n",
      "Year: 2018, Country: Latvia, Population: 1934362, Populated Area (km^2): 32912.0, NO2 (ug/m3): 3.6, O3 (ug/m3): 3243.3, PM10 (ug/m3): 13.3, PM2.5 (ug/m3): 8.6, Annual AQI NO2: 3.4, Annual AQI O3: 0.0, Annual AQI PM10: 12.31, Annual AQI PM2.5: 35.83, Premature Deaths NO2: 200.0, Premature Deaths O3: 89.0, Premature Deaths PM10: 8620.4, Premature Deaths PM2.5: 1436.0, Years Of Life Lost NO2: 2309.0, Years Of Life Lost O3: 1032.0, Years Of Life Lost PM10: 94656.66, Years Of Life Lost PM2.5: 16362.0, Renewable Data: 40, Average Renewable Data: 40.5 Coordinates: 56.8518194796, 24.9086224276, Elevation: 87.0, Country Code: LV, New Rank: 27, Mean GDP: 18826.5, Temperature: 0.0977778, Wind Speed: 3.02889\n",
      "Year: 2018, Country: Latvia, Population: 1934362, Populated Area (km^2): 32912.0, NO2 (ug/m3): 3.6, O3 (ug/m3): 3243.3, PM10 (ug/m3): 13.3, PM2.5 (ug/m3): 8.6, Annual AQI NO2: 3.4, Annual AQI O3: 0.0, Annual AQI PM10: 12.31, Annual AQI PM2.5: 35.83, Premature Deaths NO2: 200.0, Premature Deaths O3: 89.0, Premature Deaths PM10: 8620.4, Premature Deaths PM2.5: 1436.0, Years Of Life Lost NO2: 2309.0, Years Of Life Lost O3: 1032.0, Years Of Life Lost PM10: 94656.66, Years Of Life Lost PM2.5: 16362.0, Renewable Data: 40, Average Renewable Data: 40.5 Coordinates: 56.8518194796, 24.9086224276, Elevation: 87.0, Country Code: LV, New Rank: 27, Mean GDP: 18826.5, Temperature: 0.0977778, Wind Speed: 3.02889\n",
      "Year: 2018, Country: Lithuania, Population: 2808874, Populated Area (km^2): 35587.0, NO2 (ug/m3): 5.3, O3 (ug/m3): 3515.7, PM10 (ug/m3): 15.8, PM2.5 (ug/m3): 10.5, Annual AQI NO2: 5.0, Annual AQI O3: 0.0, Annual AQI PM10: 14.63, Annual AQI PM2.5: 43.75, Premature Deaths NO2: 249.0, Premature Deaths O3: 137.0, Premature Deaths PM10: 8620.4, Premature Deaths PM2.5: 2110.0, Years Of Life Lost NO2: 2812.0, Years Of Life Lost O3: 1549.0, Years Of Life Lost PM10: 94656.66, Years Of Life Lost PM2.5: 23593.0, Renewable Data: 25, Average Renewable Data: 25.1 Coordinates: 55.3270236412, 23.8882490157, Elevation: 110.0, Country Code: LT, New Rank: 24, Mean GDP: 20923.5, Temperature: 0.807778, Wind Speed: 4.23111\n",
      "Year: 2018, Country: Lithuania, Population: 2808874, Populated Area (km^2): 35587.0, NO2 (ug/m3): 5.3, O3 (ug/m3): 3515.7, PM10 (ug/m3): 15.8, PM2.5 (ug/m3): 10.5, Annual AQI NO2: 5.0, Annual AQI O3: 0.0, Annual AQI PM10: 14.63, Annual AQI PM2.5: 43.75, Premature Deaths NO2: 249.0, Premature Deaths O3: 137.0, Premature Deaths PM10: 8620.4, Premature Deaths PM2.5: 2110.0, Years Of Life Lost NO2: 2812.0, Years Of Life Lost O3: 1549.0, Years Of Life Lost PM10: 94656.66, Years Of Life Lost PM2.5: 23593.0, Renewable Data: 25, Average Renewable Data: 25.1 Coordinates: 55.3270236412, 23.8882490157, Elevation: 110.0, Country Code: LT, New Rank: 24, Mean GDP: 20923.5, Temperature: 0.807778, Wind Speed: 4.23111\n",
      "Year: 2018, Country: Luxembourg, Population: 602001, Populated Area (km^2): 1658.0, NO2 (ug/m3): 12.2, O3 (ug/m3): 5708.7, PM10 (ug/m3): 15.0, PM2.5 (ug/m3): 9.2, Annual AQI NO2: 11.51, Annual AQI O3: 0.0, Annual AQI PM10: 13.89, Annual AQI PM2.5: 38.33, Premature Deaths NO2: 81.0, Premature Deaths O3: 22.0, Premature Deaths PM10: 8620.4, Premature Deaths PM2.5: 150.0, Years Of Life Lost NO2: 934.0, Years Of Life Lost O3: 267.0, Years Of Life Lost PM10: 94656.66, Years Of Life Lost PM2.5: 1747.0, Renewable Data: 9, Average Renewable Data: 8.0 Coordinates: 49.7668242758, 6.07176396727, Elevation: 325.0, Country Code: LU, New Rank: 1, Mean GDP: 126738.0, Temperature: 6.13889, Wind Speed: 3.88667\n",
      "Year: 2018, Country: Malta, Population: 475697, Populated Area (km^2): 264.0, NO2 (ug/m3): 5.5, O3 (ug/m3): 7054.4, PM10 (ug/m3): 26.4, PM2.5 (ug/m3): 11.5, Annual AQI NO2: 5.19, Annual AQI O3: 0.0, Annual AQI PM10: 24.44, Annual AQI PM2.5: 47.92, Premature Deaths NO2: 13.0, Premature Deaths O3: 23.0, Premature Deaths PM10: 8620.4, Premature Deaths PM2.5: 196.0, Years Of Life Lost NO2: 152.0, Years Of Life Lost O3: 278.0, Years Of Life Lost PM10: 94656.66, Years Of Life Lost PM2.5: 2374.0, Renewable Data: 8, Average Renewable Data: 8.25 Coordinates: 35.921026987, 14.4037540314, Elevation: 127.0, Country Code: MT, New Rank: 17, Mean GDP: 30698.5, Temperature: 21.7444, Wind Speed: 6.74556\n",
      "Year: 2018, Country: Netherlands, Population: 17180968, Populated Area (km^2): 30299.0, NO2 (ug/m3): 14.1, O3 (ug/m3): 3814.5, PM10 (ug/m3): 18.6, PM2.5 (ug/m3): 11.7, Annual AQI NO2: 13.3, Annual AQI O3: 0.0, Annual AQI PM10: 17.22, Annual AQI PM2.5: 48.75, Premature Deaths NO2: 2929.0, Premature Deaths O3: 605.0, Premature Deaths PM10: 8620.4, Premature Deaths PM2.5: 7554.0, Years Of Life Lost NO2: 31231.0, Years Of Life Lost O3: 6837.0, Years Of Life Lost PM10: 94656.66, Years Of Life Lost PM2.5: 80451.0, Renewable Data: 7, Average Renewable Data: 8.05 Coordinates: 52.0697916544, 5.2168142092, Elevation: 30.0, Country Code: NL, New Rank: 7, Mean GDP: 56923.5, Temperature: 6.76556, Wind Speed: 2.75111\n",
      "Year: 2018, Country: Poland, Population: 37976476, Populated Area (km^2): 196199.0, NO2 (ug/m3): 8.9, O3 (ug/m3): 5495.7, PM10 (ug/m3): 24.6, PM2.5 (ug/m3): 17.7, Annual AQI NO2: 8.4, Annual AQI O3: 0.0, Annual AQI PM10: 22.78, Annual AQI PM2.5: 62.78, Premature Deaths NO2: 4591.0, Premature Deaths O3: 2343.0, Premature Deaths PM10: 8620.4, Premature Deaths PM2.5: 46792.0, Years Of Life Lost NO2: 57361.0, Years Of Life Lost O3: 30524.0, Years Of Life Lost PM10: 94656.66, Years Of Life Lost PM2.5: 583534.0, Renewable Data: 12, Average Renewable Data: 11.85 Coordinates: 52.1247718189, 19.3943221398, Elevation: 173.0, Country Code: PL, New Rank: 29, Mean GDP: 16901.0, Temperature: 2.97444, Wind Speed: 3.48778\n",
      "Year: 2018, Country: Slovakia, Population: 5443100, Populated Area (km^2): 15868.0, NO2 (ug/m3): 9.4, O3 (ug/m3): 7110.0, PM10 (ug/m3): 22.3, PM2.5 (ug/m3): 16.4, Annual AQI NO2: 8.87, Annual AQI O3: 0.0, Annual AQI PM10: 20.65, Annual AQI PM2.5: 60.04, Premature Deaths NO2: 500.0, Premature Deaths O3: 363.0, Premature Deaths PM10: 8620.4, Premature Deaths PM2.5: 4857.0, Years Of Life Lost NO2: 6175.0, Years Of Life Lost O3: 4781.0, Years Of Life Lost PM10: 94656.66, Years Of Life Lost PM2.5: 60053.0, Renewable Data: 12, Average Renewable Data: 14.4 Coordinates: 48.7049353017, 19.4803829712, Elevation: 458.0, Country Code: SK, New Rank: 25, Mean GDP: 20397.5, Temperature: 7.06222, Wind Speed: 6.00333\n",
      "Year: 2018, Country: Spain, Population: 44522593, Populated Area (km^2): 60511.0, NO2 (ug/m3): 7.2, O3 (ug/m3): 6178.7, PM10 (ug/m3): 14.2, PM2.5 (ug/m3): 7.5, Annual AQI NO2: 6.79, Annual AQI O3: 0.0, Annual AQI PM10: 13.15, Annual AQI PM2.5: 31.25, Premature Deaths NO2: 7450.0, Premature Deaths O3: 2668.0, Premature Deaths PM10: 8620.4, Premature Deaths PM2.5: 15104.0, Years Of Life Lost NO2: 80869.0, Years Of Life Lost O3: 29968.0, Years Of Life Lost PM10: 94656.66, Years Of Life Lost PM2.5: 163880.0, Renewable Data: 17, Average Renewable Data: 17.9 Coordinates: 40.2272337014, -3.65263701695, Elevation: 660.0, Country Code: ES, New Rank: 18, Mean GDP: 30298.0, Temperature: 11.83, Wind Speed: 2.62778\n",
      "Year: 2018, Country: Spain, Population: 44522593, Populated Area (km^2): 60511.0, NO2 (ug/m3): 7.2, O3 (ug/m3): 6178.7, PM10 (ug/m3): 14.2, PM2.5 (ug/m3): 7.5, Annual AQI NO2: 6.79, Annual AQI O3: 0.0, Annual AQI PM10: 13.15, Annual AQI PM2.5: 31.25, Premature Deaths NO2: 7450.0, Premature Deaths O3: 2668.0, Premature Deaths PM10: 8620.4, Premature Deaths PM2.5: 15104.0, Years Of Life Lost NO2: 80869.0, Years Of Life Lost O3: 29968.0, Years Of Life Lost PM10: 94656.66, Years Of Life Lost PM2.5: 163880.0, Renewable Data: 17, Average Renewable Data: 17.9 Coordinates: 40.2272337014, -3.65263701695, Elevation: 660.0, Country Code: ES, New Rank: 18, Mean GDP: 30298.0, Temperature: 11.83, Wind Speed: 2.62778\n",
      "Year: 2019, Country: Austria, Population: 8858695, Populated Area (km^2): 43050.0, NO2 (ug/m3): 8.7, O3 (ug/m3): 6892.5, PM10 (ug/m3): 12.8, PM2.5 (ug/m3): 9.1, Annual AQI NO2: 8.21, Annual AQI O3: 0.0, Annual AQI PM10: 11.85, Annual AQI PM2.5: 37.92, Premature Deaths NO2: 1038.0, Premature Deaths O3: 532.0, Premature Deaths PM10: 8620.4, Premature Deaths PM2.5: 3685.0, Years Of Life Lost NO2: 10735.0, Years Of Life Lost O3: 5742.0, Years Of Life Lost PM10: 94656.66, Years Of Life Lost PM2.5: 38017.0, Renewable Data: 34, Average Renewable Data: 33.7 Coordinates: 47.5856569205, 14.1306728873, Elevation: 910.0, Country Code: AT, New Rank: 9, Mean GDP: 54459.5, Temperature: 6.87333, Wind Speed: 7.74\n",
      "Year: 2019, Country: Belgium, Population: 11455418, Populated Area (km^2): 25153.0, NO2 (ug/m3): 12.5, O3 (ug/m3): 3719.9, PM10 (ug/m3): 16.4, PM2.5 (ug/m3): 9.9, Annual AQI NO2: 11.79, Annual AQI O3: 0.0, Annual AQI PM10: 15.19, Annual AQI PM2.5: 41.25, Premature Deaths NO2: 1696.0, Premature Deaths O3: 395.0, Premature Deaths PM10: 8620.4, Premature Deaths PM2.5: 4533.0, Years Of Life Lost NO2: 18208.0, Years Of Life Lost O3: 4456.0, Years Of Life Lost PM10: 94656.66, Years Of Life Lost PM2.5: 48580.0, Renewable Data: 10, Average Renewable Data: 9.65 Coordinates: 50.6374616353, 4.63996050767, Elevation: 181.0, Country Code: BE, New Rank: 13, Mean GDP: 48262.0, Temperature: 6.78667, Wind Speed: 2.28667\n",
      "Year: 2019, Country: Belgium, Population: 11455418, Populated Area (km^2): 25153.0, NO2 (ug/m3): 12.5, O3 (ug/m3): 3719.9, PM10 (ug/m3): 16.4, PM2.5 (ug/m3): 9.9, Annual AQI NO2: 11.79, Annual AQI O3: 0.0, Annual AQI PM10: 15.19, Annual AQI PM2.5: 41.25, Premature Deaths NO2: 1696.0, Premature Deaths O3: 395.0, Premature Deaths PM10: 8620.4, Premature Deaths PM2.5: 4533.0, Years Of Life Lost NO2: 18208.0, Years Of Life Lost O3: 4456.0, Years Of Life Lost PM10: 94656.66, Years Of Life Lost PM2.5: 48580.0, Renewable Data: 10, Average Renewable Data: 9.65 Coordinates: 50.6374616353, 4.63996050767, Elevation: 181.0, Country Code: BE, New Rank: 13, Mean GDP: 48262.0, Temperature: 6.78667, Wind Speed: 2.28667\n",
      "Year: 2019, Country: Belgium, Population: 11455418, Populated Area (km^2): 25153.0, NO2 (ug/m3): 12.5, O3 (ug/m3): 3719.9, PM10 (ug/m3): 16.4, PM2.5 (ug/m3): 9.9, Annual AQI NO2: 11.79, Annual AQI O3: 0.0, Annual AQI PM10: 15.19, Annual AQI PM2.5: 41.25, Premature Deaths NO2: 1696.0, Premature Deaths O3: 395.0, Premature Deaths PM10: 8620.4, Premature Deaths PM2.5: 4533.0, Years Of Life Lost NO2: 18208.0, Years Of Life Lost O3: 4456.0, Years Of Life Lost PM10: 94656.66, Years Of Life Lost PM2.5: 48580.0, Renewable Data: 10, Average Renewable Data: 9.65 Coordinates: 50.6374616353, 4.63996050767, Elevation: 181.0, Country Code: BE, New Rank: 13, Mean GDP: 48262.0, Temperature: 6.78667, Wind Speed: 2.28667\n",
      "Year: 2019, Country: Bulgaria, Population: 6999961, Populated Area (km^2): 23519.0, NO2 (ug/m3): 8.3, O3 (ug/m3): 5954.5, PM10 (ug/m3): 18.1, PM2.5 (ug/m3): 11.8, Annual AQI NO2: 7.83, Annual AQI O3: 0.0, Annual AQI PM10: 16.76, Annual AQI PM2.5: 49.17, Premature Deaths NO2: 1819.0, Premature Deaths O3: 424.0, Premature Deaths PM10: 8620.4, Premature Deaths PM2.5: 9906.0, Years Of Life Lost NO2: 19606.0, Years Of Life Lost O3: 4858.0, Years Of Life Lost PM10: 94656.66, Years Of Life Lost PM2.5: 106663.0, Renewable Data: 22, Average Renewable Data: 21.05 Coordinates: 42.7685226144, 25.2175125117, Elevation: 470.0, Country Code: BG, New Rank: 33, Mean GDP: 10574.5, Temperature: 8.36, Wind Speed: 2.74444\n",
      "Year: 2019, Country: Bulgaria, Population: 6999961, Populated Area (km^2): 23519.0, NO2 (ug/m3): 8.3, O3 (ug/m3): 5954.5, PM10 (ug/m3): 18.1, PM2.5 (ug/m3): 11.8, Annual AQI NO2: 7.83, Annual AQI O3: 0.0, Annual AQI PM10: 16.76, Annual AQI PM2.5: 49.17, Premature Deaths NO2: 1819.0, Premature Deaths O3: 424.0, Premature Deaths PM10: 8620.4, Premature Deaths PM2.5: 9906.0, Years Of Life Lost NO2: 19606.0, Years Of Life Lost O3: 4858.0, Years Of Life Lost PM10: 94656.66, Years Of Life Lost PM2.5: 106663.0, Renewable Data: 22, Average Renewable Data: 21.05 Coordinates: 42.7685226144, 25.2175125117, Elevation: 470.0, Country Code: BG, New Rank: 33, Mean GDP: 10574.5, Temperature: 8.36, Wind Speed: 2.74444\n",
      "Year: 2019, Country: Croatia, Population: 4076191, Populated Area (km^2): 23884.0, NO2 (ug/m3): 6.3, O3 (ug/m3): 6343.8, PM10 (ug/m3): 16.0, PM2.5 (ug/m3): 10.8, Annual AQI NO2: 5.94, Annual AQI O3: 0.0, Annual AQI PM10: 14.81, Annual AQI PM2.5: 45.0, Premature Deaths NO2: 497.0, Premature Deaths O3: 359.0, Premature Deaths PM10: 8620.4, Premature Deaths PM2.5: 3472.0, Years Of Life Lost NO2: 5230.0, Years Of Life Lost O3: 3822.0, Years Of Life Lost PM10: 94656.66, Years Of Life Lost PM2.5: 36410.0, Renewable Data: 29, Average Renewable Data: 28.25 Coordinates: 45.067726168, 16.3985488378, Elevation: 331.0, Country Code: HR, New Rank: 31, Mean GDP: 15591.5, Temperature: 11.02, Wind Speed: 4.74333\n",
      "Year: 2019, Country: Croatia, Population: 4076191, Populated Area (km^2): 23884.0, NO2 (ug/m3): 6.3, O3 (ug/m3): 6343.8, PM10 (ug/m3): 16.0, PM2.5 (ug/m3): 10.8, Annual AQI NO2: 5.94, Annual AQI O3: 0.0, Annual AQI PM10: 14.81, Annual AQI PM2.5: 45.0, Premature Deaths NO2: 497.0, Premature Deaths O3: 359.0, Premature Deaths PM10: 8620.4, Premature Deaths PM2.5: 3472.0, Years Of Life Lost NO2: 5230.0, Years Of Life Lost O3: 3822.0, Years Of Life Lost PM10: 94656.66, Years Of Life Lost PM2.5: 36410.0, Renewable Data: 29, Average Renewable Data: 28.25 Coordinates: 45.067726168, 16.3985488378, Elevation: 331.0, Country Code: HR, New Rank: 31, Mean GDP: 15591.5, Temperature: 11.02, Wind Speed: 4.74333\n",
      "Year: 2019, Country: Cyprus, Population: 1213178, Populated Area (km^2): 6504.0, NO2 (ug/m3): 7.7, O3 (ug/m3): 8656.4, PM10 (ug/m3): 17.7, PM2.5 (ug/m3): 13.7, Annual AQI NO2: 7.26, Annual AQI O3: 0.0, Annual AQI PM10: 16.39, Annual AQI PM2.5: 54.36, Premature Deaths NO2: 179.0, Premature Deaths O3: 53.0, Premature Deaths PM10: 8620.4, Premature Deaths PM2.5: 582.0, Years Of Life Lost NO2: 1889.0, Years Of Life Lost O3: 608.0, Years Of Life Lost PM10: 94656.66, Years Of Life Lost PM2.5: 6161.0, Renewable Data: 14, Average Renewable Data: 13.85 Coordinates: 34.977, 33.106, Elevation: 91.0, Country Code: CY, New Rank: 19, Mean GDP: 28704.5, Temperature: 22.0711, Wind Speed: 1.77111\n",
      "Year: 2019, Country: Cyprus, Population: 1213178, Populated Area (km^2): 6504.0, NO2 (ug/m3): 7.7, O3 (ug/m3): 8656.4, PM10 (ug/m3): 17.7, PM2.5 (ug/m3): 13.7, Annual AQI NO2: 7.26, Annual AQI O3: 0.0, Annual AQI PM10: 16.39, Annual AQI PM2.5: 54.36, Premature Deaths NO2: 179.0, Premature Deaths O3: 53.0, Premature Deaths PM10: 8620.4, Premature Deaths PM2.5: 582.0, Years Of Life Lost NO2: 1889.0, Years Of Life Lost O3: 608.0, Years Of Life Lost PM10: 94656.66, Years Of Life Lost PM2.5: 6161.0, Renewable Data: 14, Average Renewable Data: 13.85 Coordinates: 34.977, 33.106, Elevation: 91.0, Country Code: CY, New Rank: 19, Mean GDP: 28704.5, Temperature: 22.0711, Wind Speed: 1.77111\n",
      "Year: 2019, Country: Czech Republic, Population: 10649759, Populated Area (km^2): 44196.0, NO2 (ug/m3): 8.4, O3 (ug/m3): 5890.6, PM10 (ug/m3): 16.0, PM2.5 (ug/m3): 11.5, Annual AQI NO2: 7.92, Annual AQI O3: 0.0, Annual AQI PM10: 14.81, Annual AQI PM2.5: 47.92, Premature Deaths NO2: 960.0, Premature Deaths O3: 675.0, Premature Deaths PM10: 8620.4, Premature Deaths PM2.5: 6941.0, Years Of Life Lost NO2: 10751.0, Years Of Life Lost O3: 7798.0, Years Of Life Lost PM10: 94656.66, Years Of Life Lost PM2.5: 77681.0, Renewable Data: 16, Average Renewable Data: 15.7 Coordinates: 49.7324482055, 15.3141031033, Elevation: 430.0, Country Code: CZ, New Rank: 22, Mean GDP: 24613.5, Temperature: 5.43889, Wind Speed: 5.76778\n",
      "Year: 2019, Country: Denmark, Population: 5806051, Populated Area (km^2): 37704.0, NO2 (ug/m3): 4.2, O3 (ug/m3): 3470.4, PM10 (ug/m3): 14.3, PM2.5 (ug/m3): 8.2, Annual AQI NO2: 3.96, Annual AQI O3: 0.0, Annual AQI PM10: 13.24, Annual AQI PM2.5: 34.17, Premature Deaths NO2: 117.0, Premature Deaths O3: 209.0, Premature Deaths PM10: 8620.4, Premature Deaths PM2.5: 1719.0, Years Of Life Lost NO2: 1326.0, Years Of Life Lost O3: 2393.0, Years Of Life Lost PM10: 94656.66, Years Of Life Lost PM2.5: 18735.0, Renewable Data: 37, Average Renewable Data: 36.3 Coordinates: 62.0740272545, -6.87055477617, Elevation: 34.0, Country Code: DK, New Rank: 6, Mean GDP: 63694.0, Temperature: 4.45556, Wind Speed: 7.65889\n",
      "Year: 2019, Country: Denmark, Population: 5806051, Populated Area (km^2): 37704.0, NO2 (ug/m3): 4.2, O3 (ug/m3): 3470.4, PM10 (ug/m3): 14.3, PM2.5 (ug/m3): 8.2, Annual AQI NO2: 3.96, Annual AQI O3: 0.0, Annual AQI PM10: 13.24, Annual AQI PM2.5: 34.17, Premature Deaths NO2: 117.0, Premature Deaths O3: 209.0, Premature Deaths PM10: 8620.4, Premature Deaths PM2.5: 1719.0, Years Of Life Lost NO2: 1326.0, Years Of Life Lost O3: 2393.0, Years Of Life Lost PM10: 94656.66, Years Of Life Lost PM2.5: 18735.0, Renewable Data: 37, Average Renewable Data: 36.3 Coordinates: 62.0740272545, -6.87055477617, Elevation: 34.0, Country Code: DK, New Rank: 6, Mean GDP: 63694.0, Temperature: 4.45556, Wind Speed: 7.65889\n",
      "Year: 2019, Country: Estonia, Population: 1324805, Populated Area (km^2): 20389.0, NO2 (ug/m3): 2.4, O3 (ug/m3): 3036.0, PM10 (ug/m3): 8.9, PM2.5 (ug/m3): 4.4, Annual AQI NO2: 2.26, Annual AQI O3: 0.0, Annual AQI PM10: 8.24, Annual AQI PM2.5: 18.33, Premature Deaths NO2: 17.0, Premature Deaths O3: 46.0, Premature Deaths PM10: 8620.4, Premature Deaths PM2.5: 79.0, Years Of Life Lost NO2: 212.0, Years Of Life Lost O3: 562.0, Years Of Life Lost PM10: 94656.66, Years Of Life Lost PM2.5: 941.0, Renewable Data: 32, Average Renewable Data: 30.95 Coordinates: 58.6710141504, 25.5357932075, Elevation: 61.0, Country Code: EE, New Rank: 21, Mean GDP: 25096.5, Temperature: 0.0955556, Wind Speed: 1.88667\n",
      "Year: 2019, Country: Estonia, Population: 1324805, Populated Area (km^2): 20389.0, NO2 (ug/m3): 2.4, O3 (ug/m3): 3036.0, PM10 (ug/m3): 8.9, PM2.5 (ug/m3): 4.4, Annual AQI NO2: 2.26, Annual AQI O3: 0.0, Annual AQI PM10: 8.24, Annual AQI PM2.5: 18.33, Premature Deaths NO2: 17.0, Premature Deaths O3: 46.0, Premature Deaths PM10: 8620.4, Premature Deaths PM2.5: 79.0, Years Of Life Lost NO2: 212.0, Years Of Life Lost O3: 562.0, Years Of Life Lost PM10: 94656.66, Years Of Life Lost PM2.5: 941.0, Renewable Data: 32, Average Renewable Data: 30.95 Coordinates: 58.6710141504, 25.5357932075, Elevation: 61.0, Country Code: EE, New Rank: 21, Mean GDP: 25096.5, Temperature: 0.0955556, Wind Speed: 1.88667\n",
      "Year: 2019, Country: Finland, Population: 5517868, Populated Area (km^2): 99493.0, NO2 (ug/m3): 2.7, O3 (ug/m3): 2596.0, PM10 (ug/m3): 5.5, PM2.5 (ug/m3): 3.6, Annual AQI NO2: 2.55, Annual AQI O3: 0.0, Annual AQI PM10: 5.09, Annual AQI PM2.5: 15.0, Premature Deaths NO2: 85.0, Premature Deaths O3: 132.0, Premature Deaths PM10: 8620.4, Premature Deaths PM2.5: 167.0, Years Of Life Lost NO2: 975.0, Years Of Life Lost O3: 1527.0, Years Of Life Lost PM10: 94656.66, Years Of Life Lost PM2.5: 1863.0, Renewable Data: 43, Average Renewable Data: 42.15 Coordinates: 60.1864472514, 20.0555828218, Elevation: 164.0, Country Code: FI, New Rank: 10, Mean GDP: 52587.0, Temperature: -2.91111, Wind Speed: 3.74111\n",
      "Year: 2019, Country: Finland, Population: 5517868, Populated Area (km^2): 99493.0, NO2 (ug/m3): 2.7, O3 (ug/m3): 2596.0, PM10 (ug/m3): 5.5, PM2.5 (ug/m3): 3.6, Annual AQI NO2: 2.55, Annual AQI O3: 0.0, Annual AQI PM10: 5.09, Annual AQI PM2.5: 15.0, Premature Deaths NO2: 85.0, Premature Deaths O3: 132.0, Premature Deaths PM10: 8620.4, Premature Deaths PM2.5: 167.0, Years Of Life Lost NO2: 975.0, Years Of Life Lost O3: 1527.0, Years Of Life Lost PM10: 94656.66, Years Of Life Lost PM2.5: 1863.0, Renewable Data: 43, Average Renewable Data: 42.15 Coordinates: 60.1864472514, 20.0555828218, Elevation: 164.0, Country Code: FI, New Rank: 10, Mean GDP: 52587.0, Temperature: -2.91111, Wind Speed: 3.74111\n",
      "Year: 2019, Country: France, Population: 65040282, Populated Area (km^2): 370764.0, NO2 (ug/m3): 5.7, O3 (ug/m3): 5388.8, PM10 (ug/m3): 12.7, PM2.5 (ug/m3): 7.4, Annual AQI NO2: 5.38, Annual AQI O3: 0.0, Annual AQI PM10: 11.76, Annual AQI PM2.5: 30.83, Premature Deaths NO2: 6720.0, Premature Deaths O3: 3107.0, Premature Deaths PM10: 8620.4, Premature Deaths PM2.5: 18709.0, Years Of Life Lost NO2: 78263.0, Years Of Life Lost O3: 38134.0, Years Of Life Lost PM10: 94656.66, Years Of Life Lost PM2.5: 217384.0, Renewable Data: 17, Average Renewable Data: 16.8 Coordinates: 42.1801069806, -2.75522118992, Elevation: 375.0, Country Code: FR, New Rank: 15, Mean GDP: 42744.5, Temperature: 9.19556, Wind Speed: 5.14333\n",
      "Year: 2019, Country: Germany, Population: 83018124, Populated Area (km^2): 213783.0, NO2 (ug/m3): 10.7, O3 (ug/m3): 5079.6, PM10 (ug/m3): 13.8, PM2.5 (ug/m3): 9.3, Annual AQI NO2: 10.09, Annual AQI O3: 0.0, Annual AQI PM10: 12.78, Annual AQI PM2.5: 38.75, Premature Deaths NO2: 13383.0, Premature Deaths O3: 4804.0, Premature Deaths PM10: 8620.4, Premature Deaths PM2.5: 34359.0, Years Of Life Lost NO2: 142396.0, Years Of Life Lost O3: 53321.0, Years Of Life Lost PM10: 94656.66, Years Of Life Lost PM2.5: 364836.0, Renewable Data: 17, Average Renewable Data: 17.05 Coordinates: 51.1063634863, 10.3814938434, Elevation: 263.0, Country Code: DE, New Rank: 12, Mean GDP: 50216.5, Temperature: 4.61111, Wind Speed: 5.89\n",
      "Year: 2019, Country: Germany, Population: 83018124, Populated Area (km^2): 213783.0, NO2 (ug/m3): 10.7, O3 (ug/m3): 5079.6, PM10 (ug/m3): 13.8, PM2.5 (ug/m3): 9.3, Annual AQI NO2: 10.09, Annual AQI O3: 0.0, Annual AQI PM10: 12.78, Annual AQI PM2.5: 38.75, Premature Deaths NO2: 13383.0, Premature Deaths O3: 4804.0, Premature Deaths PM10: 8620.4, Premature Deaths PM2.5: 34359.0, Years Of Life Lost NO2: 142396.0, Years Of Life Lost O3: 53321.0, Years Of Life Lost PM10: 94656.66, Years Of Life Lost PM2.5: 364836.0, Renewable Data: 17, Average Renewable Data: 17.05 Coordinates: 51.1063634863, 10.3814938434, Elevation: 263.0, Country Code: DE, New Rank: 12, Mean GDP: 50216.5, Temperature: 4.61111, Wind Speed: 5.89\n",
      "Year: 2019, Country: Greece, Population: 10724467, Populated Area (km^2): 24582.0, NO2 (ug/m3): 7.0, O3 (ug/m3): 8353.6, PM10 (ug/m3): 19.3, PM2.5 (ug/m3): 11.9, Annual AQI NO2: 6.6, Annual AQI O3: 0.0, Annual AQI PM10: 17.87, Annual AQI PM2.5: 49.58, Premature Deaths NO2: 2316.0, Premature Deaths O3: 984.0, Premature Deaths PM10: 8620.4, Premature Deaths PM2.5: 9480.0, Years Of Life Lost NO2: 23215.0, Years Of Life Lost O3: 10257.0, Years Of Life Lost PM10: 94656.66, Years Of Life Lost PM2.5: 94734.0, Renewable Data: 20, Average Renewable Data: 18.9 Coordinates: 39.0511811824, 22.9748189255, Elevation: 498.0, Country Code: GR, New Rank: 26, Mean GDP: 19628.0, Temperature: 20.52, Wind Speed: 2.92667\n",
      "Year: 2019, Country: Hungary, Population: 9772693, Populated Area (km^2): 27758.0, NO2 (ug/m3): 9.0, O3 (ug/m3): 5347.2, PM10 (ug/m3): 19.3, PM2.5 (ug/m3): 13.4, Annual AQI NO2: 8.49, Annual AQI O3: 0.0, Annual AQI PM10: 17.87, Annual AQI PM2.5: 53.73, Premature Deaths NO2: 1664.0, Premature Deaths O3: 648.0, Premature Deaths PM10: 8620.4, Premature Deaths PM2.5: 8667.0, Years Of Life Lost NO2: 18981.0, Years Of Life Lost O3: 7660.0, Years Of Life Lost PM10: 94656.66, Years Of Life Lost PM2.5: 98816.0, Renewable Data: 13, Average Renewable Data: 12.55 Coordinates: 47.1632436866, 19.3967592674, Elevation: 143.0, Country Code: HU, New Rank: 28, Mean GDP: 17403.5, Temperature: 8.46778, Wind Speed: 3.69222\n",
      "Year: 2019, Country: Hungary, Population: 9772693, Populated Area (km^2): 27758.0, NO2 (ug/m3): 9.0, O3 (ug/m3): 5347.2, PM10 (ug/m3): 19.3, PM2.5 (ug/m3): 13.4, Annual AQI NO2: 8.49, Annual AQI O3: 0.0, Annual AQI PM10: 17.87, Annual AQI PM2.5: 53.73, Premature Deaths NO2: 1664.0, Premature Deaths O3: 648.0, Premature Deaths PM10: 8620.4, Premature Deaths PM2.5: 8667.0, Years Of Life Lost NO2: 18981.0, Years Of Life Lost O3: 7660.0, Years Of Life Lost PM10: 94656.66, Years Of Life Lost PM2.5: 98816.0, Renewable Data: 13, Average Renewable Data: 12.55 Coordinates: 47.1632436866, 19.3967592674, Elevation: 143.0, Country Code: HU, New Rank: 28, Mean GDP: 17403.5, Temperature: 8.46778, Wind Speed: 3.69222\n",
      "Year: 2019, Country: Ireland, Population: 4904219, Populated Area (km^2): 55482.0, NO2 (ug/m3): 3.7, O3 (ug/m3): 2504.7, PM10 (ug/m3): 10.1, PM2.5 (ug/m3): 5.4, Annual AQI NO2: 3.49, Annual AQI O3: 0.0, Annual AQI PM10: 9.35, Annual AQI PM2.5: 22.5, Premature Deaths NO2: 168.0, Premature Deaths O3: 74.0, Premature Deaths PM10: 8620.4, Premature Deaths PM2.5: 598.0, Years Of Life Lost NO2: 2043.0, Years Of Life Lost O3: 935.0, Years Of Life Lost PM10: 94656.66, Years Of Life Lost PM2.5: 7161.0, Renewable Data: 12, Average Renewable Data: 11.45 Coordinates: 53.1782213727, -8.14504467255, Elevation: 118.0, Country Code: IE, New Rank: 3, Mean GDP: 86608.5, Temperature: 7.35333, Wind Speed: 6.11444\n",
      "Year: 2019, Country: Italy, Population: 59816350, Populated Area (km^2): 169658.0, NO2 (ug/m3): 10.5, O3 (ug/m3): 7549.0, PM10 (ug/m3): 18.7, PM2.5 (ug/m3): 12.0, Annual AQI NO2: 9.91, Annual AQI O3: 0.0, Annual AQI PM10: 17.31, Annual AQI PM2.5: 50.0, Premature Deaths NO2: 12239.0, Premature Deaths O3: 4763.0, Premature Deaths PM10: 8620.4, Premature Deaths PM2.5: 42658.0, Years Of Life Lost NO2: 122009.0, Years Of Life Lost O3: 48766.0, Years Of Life Lost PM10: 94656.66, Years Of Life Lost PM2.5: 425504.0, Renewable Data: 18, Average Renewable Data: 18.0 Coordinates: 42.7864339964, 12.0719070927, Elevation: 538.0, Country Code: IT, New Rank: 16, Mean GDP: 34112.5, Temperature: 17.4233, Wind Speed: 3.65889\n",
      "Year: 2019, Country: Latvia, Population: 1919953, Populated Area (km^2): 32912.0, NO2 (ug/m3): 3.4, O3 (ug/m3): 3197.8, PM10 (ug/m3): 11.9, PM2.5 (ug/m3): 7.0, Annual AQI NO2: 3.21, Annual AQI O3: 0.0, Annual AQI PM10: 11.02, Annual AQI PM2.5: 29.17, Premature Deaths NO2: 130.0, Premature Deaths O3: 77.0, Premature Deaths PM10: 8620.4, Premature Deaths PM2.5: 1001.0, Years Of Life Lost NO2: 1486.0, Years Of Life Lost O3: 925.0, Years Of Life Lost PM10: 94656.66, Years Of Life Lost PM2.5: 11414.0, Renewable Data: 41, Average Renewable Data: 40.5 Coordinates: 56.8518194796, 24.9086224276, Elevation: 87.0, Country Code: LV, New Rank: 27, Mean GDP: 18826.5, Temperature: 0.0977778, Wind Speed: 3.02889\n",
      "Year: 2019, Country: Latvia, Population: 1919953, Populated Area (km^2): 32912.0, NO2 (ug/m3): 3.4, O3 (ug/m3): 3197.8, PM10 (ug/m3): 11.9, PM2.5 (ug/m3): 7.0, Annual AQI NO2: 3.21, Annual AQI O3: 0.0, Annual AQI PM10: 11.02, Annual AQI PM2.5: 29.17, Premature Deaths NO2: 130.0, Premature Deaths O3: 77.0, Premature Deaths PM10: 8620.4, Premature Deaths PM2.5: 1001.0, Years Of Life Lost NO2: 1486.0, Years Of Life Lost O3: 925.0, Years Of Life Lost PM10: 94656.66, Years Of Life Lost PM2.5: 11414.0, Renewable Data: 41, Average Renewable Data: 40.5 Coordinates: 56.8518194796, 24.9086224276, Elevation: 87.0, Country Code: LV, New Rank: 27, Mean GDP: 18826.5, Temperature: 0.0977778, Wind Speed: 3.02889\n",
      "Year: 2019, Country: Latvia, Population: 1919953, Populated Area (km^2): 32912.0, NO2 (ug/m3): 3.4, O3 (ug/m3): 3197.8, PM10 (ug/m3): 11.9, PM2.5 (ug/m3): 7.0, Annual AQI NO2: 3.21, Annual AQI O3: 0.0, Annual AQI PM10: 11.02, Annual AQI PM2.5: 29.17, Premature Deaths NO2: 130.0, Premature Deaths O3: 77.0, Premature Deaths PM10: 8620.4, Premature Deaths PM2.5: 1001.0, Years Of Life Lost NO2: 1486.0, Years Of Life Lost O3: 925.0, Years Of Life Lost PM10: 94656.66, Years Of Life Lost PM2.5: 11414.0, Renewable Data: 41, Average Renewable Data: 40.5 Coordinates: 56.8518194796, 24.9086224276, Elevation: 87.0, Country Code: LV, New Rank: 27, Mean GDP: 18826.5, Temperature: 0.0977778, Wind Speed: 3.02889\n",
      "Year: 2019, Country: Lithuania, Population: 2794155, Populated Area (km^2): 35587.0, NO2 (ug/m3): 4.8, O3 (ug/m3): 3622.6, PM10 (ug/m3): 14.4, PM2.5 (ug/m3): 9.1, Annual AQI NO2: 4.53, Annual AQI O3: 0.0, Annual AQI PM10: 13.33, Annual AQI PM2.5: 37.92, Premature Deaths NO2: 171.0, Premature Deaths O3: 136.0, Premature Deaths PM10: 8620.4, Premature Deaths PM2.5: 1880.0, Years Of Life Lost NO2: 2012.0, Years Of Life Lost O3: 1617.0, Years Of Life Lost PM10: 94656.66, Years Of Life Lost PM2.5: 21721.0, Renewable Data: 26, Average Renewable Data: 25.1 Coordinates: 55.3270236412, 23.8882490157, Elevation: 110.0, Country Code: LT, New Rank: 24, Mean GDP: 20923.5, Temperature: 0.807778, Wind Speed: 4.23111\n",
      "Year: 2019, Country: Lithuania, Population: 2794155, Populated Area (km^2): 35587.0, NO2 (ug/m3): 4.8, O3 (ug/m3): 3622.6, PM10 (ug/m3): 14.4, PM2.5 (ug/m3): 9.1, Annual AQI NO2: 4.53, Annual AQI O3: 0.0, Annual AQI PM10: 13.33, Annual AQI PM2.5: 37.92, Premature Deaths NO2: 171.0, Premature Deaths O3: 136.0, Premature Deaths PM10: 8620.4, Premature Deaths PM2.5: 1880.0, Years Of Life Lost NO2: 2012.0, Years Of Life Lost O3: 1617.0, Years Of Life Lost PM10: 94656.66, Years Of Life Lost PM2.5: 21721.0, Renewable Data: 26, Average Renewable Data: 25.1 Coordinates: 55.3270236412, 23.8882490157, Elevation: 110.0, Country Code: LT, New Rank: 24, Mean GDP: 20923.5, Temperature: 0.807778, Wind Speed: 4.23111\n",
      "Year: 2019, Country: Luxembourg, Population: 613891, Populated Area (km^2): 1658.0, NO2 (ug/m3): 11.1, O3 (ug/m3): 4368.4, PM10 (ug/m3): 12.8, PM2.5 (ug/m3): 7.5, Annual AQI NO2: 10.47, Annual AQI O3: 0.0, Annual AQI PM10: 11.85, Annual AQI PM2.5: 31.25, Premature Deaths NO2: 67.0, Premature Deaths O3: 18.0, Premature Deaths PM10: 8620.4, Premature Deaths PM2.5: 93.0, Years Of Life Lost NO2: 769.0, Years Of Life Lost O3: 221.0, Years Of Life Lost PM10: 94656.66, Years Of Life Lost PM2.5: 1084.0, Renewable Data: 7, Average Renewable Data: 8.0 Coordinates: 49.7668242758, 6.07176396727, Elevation: 325.0, Country Code: LU, New Rank: 1, Mean GDP: 126738.0, Temperature: 6.13889, Wind Speed: 3.88667\n",
      "Year: 2019, Country: Malta, Population: 493556, Populated Area (km^2): 264.0, NO2 (ug/m3): 6.9, O3 (ug/m3): 7374.2, PM10 (ug/m3): 24.9, PM2.5 (ug/m3): 11.7, Annual AQI NO2: 6.51, Annual AQI O3: 0.0, Annual AQI PM10: 23.06, Annual AQI PM2.5: 48.75, Premature Deaths NO2: 16.0, Premature Deaths O3: 25.0, Premature Deaths PM10: 8620.4, Premature Deaths PM2.5: 188.0, Years Of Life Lost NO2: 190.0, Years Of Life Lost O3: 294.0, Years Of Life Lost PM10: 94656.66, Years Of Life Lost PM2.5: 2299.0, Renewable Data: 9, Average Renewable Data: 8.25 Coordinates: 35.921026987, 14.4037540314, Elevation: 127.0, Country Code: MT, New Rank: 17, Mean GDP: 30698.5, Temperature: 21.7444, Wind Speed: 6.74556\n",
      "Year: 2019, Country: Netherlands, Population: 17282047, Populated Area (km^2): 30299.0, NO2 (ug/m3): 13.2, O3 (ug/m3): 3555.4, PM10 (ug/m3): 17.0, PM2.5 (ug/m3): 10.4, Annual AQI NO2: 12.45, Annual AQI O3: 0.0, Annual AQI PM10: 15.74, Annual AQI PM2.5: 43.33, Premature Deaths NO2: 2531.0, Premature Deaths O3: 548.0, Premature Deaths PM10: 8620.4, Premature Deaths PM2.5: 6064.0, Years Of Life Lost NO2: 27531.0, Years Of Life Lost O3: 6350.0, Years Of Life Lost PM10: 94656.66, Years Of Life Lost PM2.5: 65862.0, Renewable Data: 9, Average Renewable Data: 8.05 Coordinates: 52.0697916544, 5.2168142092, Elevation: 30.0, Country Code: NL, New Rank: 7, Mean GDP: 56923.5, Temperature: 6.76556, Wind Speed: 2.75111\n",
      "Year: 2019, Country: Slovakia, Population: 5450395, Populated Area (km^2): 15868.0, NO2 (ug/m3): 8.6, O3 (ug/m3): 5561.9, PM10 (ug/m3): 18.1, PM2.5 (ug/m3): 12.6, Annual AQI NO2: 8.11, Annual AQI O3: 0.0, Annual AQI PM10: 16.76, Annual AQI PM2.5: 52.05, Premature Deaths NO2: 371.0, Premature Deaths O3: 280.0, Premature Deaths PM10: 8620.4, Premature Deaths PM2.5: 3462.0, Years Of Life Lost NO2: 4741.0, Years Of Life Lost O3: 3766.0, Years Of Life Lost PM10: 94656.66, Years Of Life Lost PM2.5: 44080.0, Renewable Data: 17, Average Renewable Data: 14.4 Coordinates: 48.7049353017, 19.4803829712, Elevation: 458.0, Country Code: SK, New Rank: 25, Mean GDP: 20397.5, Temperature: 7.06222, Wind Speed: 6.00333\n",
      "Year: 2019, Country: Slovenia, Population: 2080877, Populated Area (km^2): 13251.0, NO2 (ug/m3): 7.9, O3 (ug/m3): 6729.3, PM10 (ug/m3): 14.9, PM2.5 (ug/m3): 10.9, Annual AQI NO2: 7.45, Annual AQI O3: 0.0, Annual AQI PM10: 13.8, Annual AQI PM2.5: 45.42, Premature Deaths NO2: 188.0, Premature Deaths O3: 126.0, Premature Deaths PM10: 8620.4, Premature Deaths PM2.5: 1147.0, Years Of Life Lost NO2: 2082.0, Years Of Life Lost O3: 1491.0, Years Of Life Lost PM10: 94656.66, Years Of Life Lost PM2.5: 12957.0, Renewable Data: 22, Average Renewable Data: 21.35 Coordinates: 46.1161109843, 14.8080896248, Elevation: 492.0, Country Code: SI, New Rank: 20, Mean GDP: 27025.0, Temperature: 9.85111, Wind Speed: 2.80111\n",
      "Year: 2019, Country: Spain, Population: 44788442, Populated Area (km^2): 60511.0, NO2 (ug/m3): 7.3, O3 (ug/m3): 6305.1, PM10 (ug/m3): 14.1, PM2.5 (ug/m3): 7.3, Annual AQI NO2: 6.89, Annual AQI O3: 0.0, Annual AQI PM10: 13.06, Annual AQI PM2.5: 30.42, Premature Deaths NO2: 6675.0, Premature Deaths O3: 2595.0, Premature Deaths PM10: 8620.4, Premature Deaths PM2.5: 14734.0, Years Of Life Lost NO2: 74958.0, Years Of Life Lost O3: 30114.0, Years Of Life Lost PM10: 94656.66, Years Of Life Lost PM2.5: 165485.0, Renewable Data: 18, Average Renewable Data: 17.9 Coordinates: 40.2272337014, -3.65263701695, Elevation: 660.0, Country Code: ES, New Rank: 18, Mean GDP: 30298.0, Temperature: 11.83, Wind Speed: 2.62778\n",
      "Year: 2019, Country: Spain, Population: 44788442, Populated Area (km^2): 60511.0, NO2 (ug/m3): 7.3, O3 (ug/m3): 6305.1, PM10 (ug/m3): 14.1, PM2.5 (ug/m3): 7.3, Annual AQI NO2: 6.89, Annual AQI O3: 0.0, Annual AQI PM10: 13.06, Annual AQI PM2.5: 30.42, Premature Deaths NO2: 6675.0, Premature Deaths O3: 2595.0, Premature Deaths PM10: 8620.4, Premature Deaths PM2.5: 14734.0, Years Of Life Lost NO2: 74958.0, Years Of Life Lost O3: 30114.0, Years Of Life Lost PM10: 94656.66, Years Of Life Lost PM2.5: 165485.0, Renewable Data: 18, Average Renewable Data: 17.9 Coordinates: 40.2272337014, -3.65263701695, Elevation: 660.0, Country Code: ES, New Rank: 18, Mean GDP: 30298.0, Temperature: 11.83, Wind Speed: 2.62778\n"
     ]
    }
   ],
   "source": [
    "# Execute a SELECT statement to fetch data from tbl_Airquality\n",
    "cur.execute(\"SELECT * FROM tbl_Airquality\")\n",
    "\n",
    "# Print Result-set\n",
    "for (Year,\n",
    "     Country,\n",
    "     Population,\n",
    "     Populated_Area_km2, Air_Pollution_Average_ug_m3_NO2,\n",
    "     Air_Pollution_Average_ug_m3_O3, Air_Pollution_Average_ug_m3_PM10, Air_Pollution_Average_ug_m3_PM2_5,\n",
    "     Annual_AQI_NO2,\n",
    "     Annual_AQI_O3,\n",
    "     Annual_AQI_PM10,\n",
    "     Annual_AQI_PM2_5,\n",
    "     Premature_Deaths_NO2,\n",
    "     Premature_Deaths_O3,\n",
    "     Premature_Deaths_PM10,\n",
    "     Premature_Deaths_PM2_5, Years_Of_Life_Lost_NO2,\n",
    "     Years_Of_Life_Lost_O3,\n",
    "     Years_Of_Life_Lost_PM10, Years_Of_Life_Lost_PM2_5,\n",
    "     RenewableData,\n",
    "     Average_Renewable_Data,\n",
    "     coordinates,\n",
    "     elevation,\n",
    "     Country_Code,\n",
    "     New_Rank,\n",
    "     Mean_GDP,\n",
    "     Temperature,\n",
    "     Wind_Speed) in cur:\n",
    "    print(f\"Year: {Year}, Country: {Country}, Population: {Population}, \"\n",
    "          f\"Populated Area (km^2): {Populated_Area_km2}, NO2 (ug/m3): {Air_Pollution_Average_ug_m3_NO2}, \"\n",
    "          f\"O3 (ug/m3): {Air_Pollution_Average_ug_m3_O3}, PM10 (ug/m3): {Air_Pollution_Average_ug_m3_PM10}, \"\n",
    "          f\"PM2.5 (ug/m3): {Air_Pollution_Average_ug_m3_PM2_5}, Annual AQI NO2: {Annual_AQI_NO2}, \"\n",
    "          f\"Annual AQI O3: {Annual_AQI_O3}, Annual AQI PM10: {Annual_AQI_PM10}, \"\n",
    "          f\"Annual AQI PM2.5: {Annual_AQI_PM2_5}, Premature Deaths NO2: {Premature_Deaths_NO2}, \"\n",
    "          f\"Premature Deaths O3: {Premature_Deaths_O3}, Premature Deaths PM10: {Premature_Deaths_PM10}, \"\n",
    "          f\"Premature Deaths PM2.5: {Premature_Deaths_PM2_5}, Years Of Life Lost NO2: {Years_Of_Life_Lost_NO2}, \"\n",
    "          f\"Years Of Life Lost O3: {Years_Of_Life_Lost_O3}, Years Of Life Lost PM10: {Years_Of_Life_Lost_PM10}, \"\n",
    "          f\"Years Of Life Lost PM2.5: {Years_Of_Life_Lost_PM2_5}, Renewable Data: {RenewableData}, \"\n",
    "          f\"Average Renewable Data: {Average_Renewable_Data}\",\n",
    "          f\"Coordinates: {coordinates}, Elevation: {elevation}, Country Code: {Country_Code}, New Rank: {New_Rank}, Mean GDP: {Mean_GDP}, Temperature: {Temperature}, Wind Speed: {Wind_Speed}\")"
   ]
  },
  {
   "cell_type": "code",
   "execution_count": 15,
   "id": "29cb696d-28d3-41c6-946e-586e25046792",
   "metadata": {},
   "outputs": [
    {
     "name": "stdout",
     "output_type": "stream",
     "text": [
      "Number of columns in 'tbl_Airquality': 29\n"
     ]
    }
   ],
   "source": [
    "# Check the number of columns\n",
    "cur.execute(\n",
    "    \"\"\"\n",
    "SELECT COUNT(*)\n",
    "FROM INFORMATION_SCHEMA.COLUMNS\n",
    "WHERE TABLE_SCHEMA = 'AIRQUALITY' AND TABLE_NAME = 'tbl_Airquality'\n",
    "\"\"\"\n",
    ")\n",
    "column_count = cur.fetchone()[0]\n",
    "print(f\"Number of columns in 'tbl_Airquality': {column_count}\")"
   ]
  },
  {
   "cell_type": "code",
   "execution_count": 16,
   "id": "3bb660bc-c3cf-4818-a8f2-b16b529c90cb",
   "metadata": {},
   "outputs": [
    {
     "name": "stdout",
     "output_type": "stream",
     "text": [
      "Number of rows in 'tbl_Airquality': 74\n"
     ]
    }
   ],
   "source": [
    "# Check the Number of Rows\n",
    "cur.execute(\"SELECT COUNT(*) FROM tbl_Airquality\")\n",
    "row_count = cur.fetchone()[0]\n",
    "print(f\"Number of rows in 'tbl_Airquality': {row_count}\")\n"
   ]
  },
  {
   "cell_type": "code",
   "execution_count": 17,
   "id": "a184d2d3-1e2f-4d23-b8be-6a838b4fe96f",
   "metadata": {},
   "outputs": [],
   "source": [
    "# Close Connection\n",
    "conn.close()\n"
   ]
  },
  {
   "cell_type": "code",
   "execution_count": null,
   "id": "868cebc9-f4dd-419f-811d-92ab715ca72a",
   "metadata": {},
   "outputs": [],
   "source": []
  },
  {
   "cell_type": "code",
   "execution_count": null,
   "id": "e40fbd7f-2564-4c9b-a388-aeb5d652a17d",
   "metadata": {},
   "outputs": [],
   "source": []
  },
  {
   "cell_type": "code",
   "execution_count": null,
   "id": "bc4ade78-74db-4215-a9b8-ebb0c46e37d3",
   "metadata": {},
   "outputs": [],
   "source": []
  },
  {
   "cell_type": "code",
   "execution_count": null,
   "id": "60b9b7dd-859f-4b0c-aac5-3434baca0016",
   "metadata": {},
   "outputs": [],
   "source": []
  },
  {
   "cell_type": "code",
   "execution_count": null,
   "id": "bfec649f-2e31-40cc-8bae-c9af5abdc903",
   "metadata": {},
   "outputs": [],
   "source": []
  },
  {
   "cell_type": "code",
   "execution_count": null,
   "id": "5bbc98e7-8848-444d-8eeb-96c8ab71e28d",
   "metadata": {},
   "outputs": [],
   "source": []
  },
  {
   "cell_type": "markdown",
   "id": "87388995-7fea-46b9-bde7-d805c8ea7813",
   "metadata": {},
   "source": [
    "### Prepare data\n"
   ]
  },
  {
   "cell_type": "code",
   "execution_count": null,
   "id": "79318104-17d6-464a-8e95-754800f2bdf9",
   "metadata": {},
   "outputs": [],
   "source": []
  },
  {
   "cell_type": "code",
   "execution_count": 5,
   "id": "b2c79b6a-eb24-4e14-94b7-2cc979b24a55",
   "metadata": {},
   "outputs": [],
   "source": [
    "\n",
    "data_to_insert = [\n",
    "    (\"Belarus\", \"53.5318804783, 28.033566395\", 170.0),\n",
    "    (\"Germany\", \"51.1063634863, 10.3814938434\", 263.0),\n",
    "    (\"Denmark\", \"62.0740272545, -6.87055477617\", 34.0),\n",
    "    (\"Portugal\", \"39.5871468639, -8.59083758901\", 372.0),\n",
    "    (\"Andorra\", \"42.541326525, 1.56075624107\", 1996.0),\n",
    "    (\"Albania\", \"41.1424820604, 20.053819197\", 708.0),\n",
    "    (\"Poland\", \"52.1247718189, 19.3943221398\", 173.0),\n",
    "    (\"Bosnia and Herzegovina\", \"44.1717340565, 17.7734080203\", 500.0),\n",
    "    (\"United Kingdom\", \"49.2210642111, -2.12743081446\", 162.0),\n",
    "    (\"Lithuania\", \"55.3270236412, 23.8882490157\", 110.0),\n",
    "    (\"San Marino\", \"43.9364661946, 12.4422225588\", 538.0),\n",
    "    (\"France\", \"42.1801069806, -2.75522118992\", 375.0),\n",
    "    (\"Spain\", \"40.2272337014, -3.65263701695\", 660.0),\n",
    "    (\"Hungary\", \"47.1632436866, 19.3967592674\", 143.0),\n",
    "    (\"Croatia\", \"45.067726168, 16.3985488378\", 331.0),\n",
    "    (\"Monaco\", \"43.7398461874, 7.39897432483\", 375.0),\n",
    "    (\"Finland\", \"60.1864472514, 20.0555828218\", 164.0),\n",
    "    (\"Czech Republic\", \"49.7324482055, 15.3141031033\", 430.0),\n",
    "    (\"Liechtenstein\", \"47.1382064295, 9.54090028864\", 1350.0),\n",
    "    (\"Italy\", \"42.7864339964, 12.0719070927\", 538.0),\n",
    "    (\"Montenegro\", \"42.7858180546, 19.2385002864\", 1086.0),\n",
    "    (\"Ukraine\", \"49.1600782909, 31.2553061432\", 175.0),\n",
    "    (\"Sweden\", \"62.7770998648, 16.7544664339\", 320.0),\n",
    "    (\"Greece\", \"39.0511811824, 22.9748189255\", 498.0),\n",
    "    (\"Slovenia\", \"46.1161109843, 14.8080896248\", 492.0),\n",
    "    (\"Luxembourg\", \"49.7668242758, 6.07176396727\", 325.0),\n",
    "    (\"Belgium\", \"50.6374616353, 4.63996050767\", 181.0),\n",
    "    (\"Estonia\", \"58.6710141504, 25.5357932075\", 61.0),\n",
    "    (\"Kosovo\", \"42.5728833853, 20.8737431935\", 800.0),\n",
    "    (\"Austria\", \"47.5856569205, 14.1306728873\", 910.0),\n",
    "    (\"Netherlands\", \"52.0697916544, 5.2168142092\", 30.0),\n",
    "    (\"Latvia\", \"56.8518194796, 24.9086224276\", 87.0),\n",
    "    (\"Norway\", \"68.7942729218, 15.4095991585\", 460.0),\n",
    "    (\"Romania\", \"45.8534640978, 24.9729418552\", 414.0),\n",
    "    (\"Switzerland\", \"46.7989568698, 8.21535365745\", 1350.0),\n",
    "    (\"Russia\", \"61.9668529189, 96.6275884228\", 600.0),\n",
    "    (\"Moldova\", \"47.195101489, 28.4613971304\", 139.0),\n",
    "    (\"Iceland\", \"64.9983158205, -18.5964459278\", 557.0),\n",
    "    (\"Serbia\", \"44.2213759212, 20.790402471\", 473.0),\n",
    "    (\"Bulgaria\", \"42.7685226144, 25.2175125117\", 470.0),\n",
    "    (\"Slovakia\", \"48.7049353017, 19.4803829712\", 458.0),\n",
    "    (\"Vatican City\", \"41.9033124692, 12.4534177294\", 538.0),\n",
    "    (\"Ireland\", \"53.1782213727, -8.14504467255\", 118.0),\n",
    "    (\"North Macedonia\", \"41.5950049267, 21.6838304101\", 741.0)\n",
    "]"
   ]
  }
 ],
 "metadata": {
  "kernelspec": {
   "display_name": "Python 3 (ipykernel)",
   "language": "python",
   "name": "python3"
  },
  "language_info": {
   "codemirror_mode": {
    "name": "ipython",
    "version": 3
   },
   "file_extension": ".py",
   "mimetype": "text/x-python",
   "name": "python",
   "nbconvert_exporter": "python",
   "pygments_lexer": "ipython3",
   "version": "3.10.11"
  }
 },
 "nbformat": 4,
 "nbformat_minor": 5
}
